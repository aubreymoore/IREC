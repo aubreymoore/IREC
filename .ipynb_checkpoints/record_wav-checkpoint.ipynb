{
 "cells": [
  {
   "cell_type": "code",
   "execution_count": 1,
   "id": "d6039f1b-679e-42a3-af1d-4df173a937e4",
   "metadata": {
    "tags": []
   },
   "outputs": [],
   "source": [
    "import pyaudio\n",
    "import wave\n",
    "import sys\n",
    "import os"
   ]
  },
  {
   "cell_type": "markdown",
   "id": "e49b9368-1b12-4d84-b062-48730a91533f",
   "metadata": {},
   "source": [
    "# DOES NOT RUN ON UBUNTU 20.04 / PYTHON 3.9 BECAUSE I CAN'T GET pyaudiIo TO INSTALL PROPERLY \n",
    "\n",
    "On my Ubuntu 20.04 machine I tried to install pyaudio using\n",
    "```\n",
    "sudo apt-get install -y python3-pyaudio\n",
    "```\n",
    "FAILED"
   ]
  },
  {
   "cell_type": "code",
   "execution_count": 2,
   "id": "97adc04e-1f68-4ce4-aa1d-11db6ea1236e",
   "metadata": {},
   "outputs": [
    {
     "data": {
      "text/plain": [
       "'3.7.3 (default, Jan 22 2021, 20:04:44) \\n[GCC 8.3.0]'"
      ]
     },
     "execution_count": 2,
     "metadata": {},
     "output_type": "execute_result"
    }
   ],
   "source": [
    "sys.version"
   ]
  },
  {
   "cell_type": "code",
   "execution_count": 11,
   "id": "e9c3920b-a38a-4aff-8aa9-980cd9a39c2c",
   "metadata": {},
   "outputs": [
    {
     "name": "stdout",
     "output_type": "stream",
     "text": [
      "0 bcm2835 HDMI 1: - (hw:0,0)\n",
      "1 Cable Creation: USB Audio (hw:1,0)\n",
      "2 bcm2835 Headphones: - (hw:2,0)\n",
      "3 sysdefault\n",
      "4 lavrate\n",
      "5 samplerate\n",
      "6 speexrate\n",
      "7 pulse\n",
      "8 upmix\n",
      "9 vdownmix\n",
      "10 dmix\n",
      "11 default\n"
     ]
    }
   ],
   "source": [
    "p = pyaudio.PyAudio()\n",
    "for dev_index in range(p.get_device_count()):\n",
    "    print(dev_index, p.get_device_info_by_index(dev_index).get('name'))"
   ]
  },
  {
   "cell_type": "code",
   "execution_count": 3,
   "id": "ac289416-5225-45db-916b-65be9435f2bc",
   "metadata": {
    "tags": [
     "parameters"
    ]
   },
   "outputs": [],
   "source": [
    "# These parameters may be set by papermill\n",
    "AUDIO_FORMAT = pyaudio.paInt16    # 16-bit resolution\n",
    "CHANNELS = 1                      # 1 channel\n",
    "RATE = 44100                      # 44.1kHz sampling rate\n",
    "FRAMES_PER_BUFFER = 4096          # 2^12 samples for buffer\n",
    "RECORD_SECS = 60                  # seconds to record\n",
    "DEV_INDEX = 1                    # device index found by p.get_device_info_by_index()\n",
    "WAV_OUTPUT_FILENAME = 'lunga_up.wav' # name of .wav file"
   ]
  },
  {
   "cell_type": "code",
   "execution_count": 13,
   "id": "cc4c907b-bb42-42e0-a538-945c3153b23f",
   "metadata": {},
   "outputs": [],
   "source": [
    "def record():\n",
    "    audio = pyaudio.PyAudio() # create pyaudio instantiation\n",
    "\n",
    "    # create pyaudio stream\n",
    "    stream = audio.open(format = AUDIO_FORMAT,\n",
    "                        rate = RATE,\n",
    "                        channels = CHANNELS,\n",
    "                        input_device_index = DEV_INDEX,\n",
    "                        input = True,\n",
    "                        frames_per_buffer = FRAMES_PER_BUFFER)\n",
    "    print(\"recording\")\n",
    "    frames = []\n",
    "\n",
    "    # loop through stream and append audio chunks to frame array\n",
    "    for chunk in range(0,int((RATE/FRAMES_PER_BUFFER)*RECORD_SECS)):\n",
    "        data = stream.read(FRAMES_PER_BUFFER)\n",
    "        frames.append(data)\n",
    "\n",
    "    print(\"finished recording\")\n",
    "\n",
    "    # stop the stream, close it, and terminate the pyaudio instantiation\n",
    "    stream.stop_stream()\n",
    "    stream.close()\n",
    "    audio.terminate()\n",
    "\n",
    "    # save the audio frames as .wav file\n",
    "    wavefile = wave.open(WAV_OUTPUT_FILENAME,'wb')\n",
    "    wavefile.setnchannels(CHANNELS)\n",
    "    wavefile.setsampwidth(audio.get_sample_size(AUDIO_FORMAT))\n",
    "    wavefile.setframerate(RATE)\n",
    "    wavefile.writeframes(b''.join(frames))\n",
    "    wavefile.close()"
   ]
  },
  {
   "cell_type": "code",
   "execution_count": 6,
   "id": "7c1b2547-b175-4cb6-9c07-9baed6b22faf",
   "metadata": {},
   "outputs": [
    {
     "ename": "SyntaxError",
     "evalue": "invalid syntax (<unknown>, line 1)",
     "output_type": "error",
     "traceback": [
      "Traceback \u001b[0;36m(most recent call last)\u001b[0m:\n",
      "  File \u001b[1;32m\"/usr/local/lib/python3.7/dist-packages/IPython/core/interactiveshell.py\"\u001b[0m, line \u001b[1;32m3441\u001b[0m, in \u001b[1;35mrun_code\u001b[0m\n    exec(code_obj, self.user_global_ns, self.user_ns)\n",
      "  File \u001b[1;32m\"/tmp/ipykernel_3664/2722810670.py\"\u001b[0m, line \u001b[1;32m1\u001b[0m, in \u001b[1;35m<module>\u001b[0m\n    get_ipython().run_cell_magic('time', '', '\\ndef update_github()\\n    os.system(\"git pull\")\\n    os.system(\"git add .\")\\n    os.system(\"git commit -m \\'commited by record_wav.ipynb\\'\")\\n    os.system(\"git push\")\\nupdate_github()\\n')\n",
      "  File \u001b[1;32m\"/usr/local/lib/python3.7/dist-packages/IPython/core/interactiveshell.py\"\u001b[0m, line \u001b[1;32m2403\u001b[0m, in \u001b[1;35mrun_cell_magic\u001b[0m\n    result = fn(*args, **kwargs)\n",
      "  File \u001b[1;32m\"<decorator-gen-61>\"\u001b[0m, line \u001b[1;32m2\u001b[0m, in \u001b[1;35mtime\u001b[0m\n",
      "  File \u001b[1;32m\"/usr/local/lib/python3.7/dist-packages/IPython/core/magic.py\"\u001b[0m, line \u001b[1;32m187\u001b[0m, in \u001b[1;35m<lambda>\u001b[0m\n    call = lambda f, *a, **k: f(*a, **k)\n",
      "  File \u001b[1;32m\"/usr/local/lib/python3.7/dist-packages/IPython/core/magics/execution.py\"\u001b[0m, line \u001b[1;32m1277\u001b[0m, in \u001b[1;35mtime\u001b[0m\n    expr_ast = self.shell.compile.ast_parse(expr)\n",
      "\u001b[0;36m  File \u001b[0;32m\"/usr/local/lib/python3.7/dist-packages/IPython/core/compilerop.py\"\u001b[0;36m, line \u001b[0;32m101\u001b[0;36m, in \u001b[0;35mast_parse\u001b[0;36m\u001b[0m\n\u001b[0;31m    return compile(source, filename, symbol, self.flags | PyCF_ONLY_AST, 1)\u001b[0m\n",
      "\u001b[0;36m  File \u001b[0;32m\"<unknown>\"\u001b[0;36m, line \u001b[0;32m1\u001b[0m\n\u001b[0;31m    def update_github()\u001b[0m\n\u001b[0m                       ^\u001b[0m\n\u001b[0;31mSyntaxError\u001b[0m\u001b[0;31m:\u001b[0m invalid syntax\n"
     ]
    }
   ],
   "source": [
    "%%time\n",
    "\n",
    "def update_github():\n",
    "    os.system(\"git pull\")\n",
    "    os.system(\"git add .\")\n",
    "    os.system(\"git commit -m 'commited by record_wav.ipynb'\")\n",
    "    os.system(\"git push\")\n",
    "update_github()"
   ]
  },
  {
   "cell_type": "code",
   "execution_count": 5,
   "id": "eeee150b-069d-4051-b1e7-942fc170e77a",
   "metadata": {},
   "outputs": [
    {
     "data": {
      "text/plain": [
       "'.'"
      ]
     },
     "execution_count": 5,
     "metadata": {},
     "output_type": "execute_result"
    }
   ],
   "source": []
  },
  {
   "cell_type": "code",
   "execution_count": 14,
   "id": "8f74d52c-56c0-4200-863d-897626a4dd5a",
   "metadata": {},
   "outputs": [],
   "source": [
    "# for i in range(11):\n",
    "#     WAV_OUTPUT_FILENAME = f'(i}.wav')\n",
    "#     record()"
   ]
  },
  {
   "cell_type": "code",
   "execution_count": 15,
   "id": "e7835c84-d03c-4386-94bd-85d44da3534b",
   "metadata": {},
   "outputs": [
    {
     "name": "stdout",
     "output_type": "stream",
     "text": [
      "recording\n",
      "finished recording\n"
     ]
    }
   ],
   "source": [
    "# MAIN\n",
    "\n",
    "record()"
   ]
  }
 ],
 "metadata": {
  "kernelspec": {
   "display_name": "Python 3 (ipykernel)",
   "language": "python",
   "name": "python3"
  },
  "language_info": {
   "codemirror_mode": {
    "name": "ipython",
    "version": 3
   },
   "file_extension": ".py",
   "mimetype": "text/x-python",
   "name": "python",
   "nbconvert_exporter": "python",
   "pygments_lexer": "ipython3",
   "version": "3.7.3"
  }
 },
 "nbformat": 4,
 "nbformat_minor": 5
}
