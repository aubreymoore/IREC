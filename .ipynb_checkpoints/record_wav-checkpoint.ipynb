{
 "cells": [
  {
   "cell_type": "code",
   "execution_count": 38,
   "id": "d6039f1b-679e-42a3-af1d-4df173a937e4",
   "metadata": {
    "tags": []
   },
   "outputs": [],
   "source": [
    "import pyaudio\n",
    "import wave\n",
    "import sys\n",
    "import os\n",
    "import piplates.POWERplate as POW\n",
    "import datetime\n",
    "import logging\n",
    "import datetime"
   ]
  },
  {
   "cell_type": "markdown",
   "id": "e49b9368-1b12-4d84-b062-48730a91533f",
   "metadata": {},
   "source": [
    "# DOES NOT RUN ON UBUNTU 20.04 / PYTHON 3.9 BECAUSE I CAN'T GET pyaudiIo TO INSTALL PROPERLY \n",
    "\n",
    "On my Ubuntu 20.04 machine I tried to install pyaudio using\n",
    "```\n",
    "sudo apt-get install -y python3-pyaudio\n",
    "```\n",
    "FAILED"
   ]
  },
  {
   "cell_type": "code",
   "execution_count": 39,
   "id": "97adc04e-1f68-4ce4-aa1d-11db6ea1236e",
   "metadata": {},
   "outputs": [
    {
     "data": {
      "text/plain": [
       "'3.7.3 (default, Jan 22 2021, 20:04:44) \\n[GCC 8.3.0]'"
      ]
     },
     "execution_count": 39,
     "metadata": {},
     "output_type": "execute_result"
    }
   ],
   "source": [
    "sys.version"
   ]
  },
  {
   "cell_type": "code",
   "execution_count": 40,
   "id": "e9c3920b-a38a-4aff-8aa9-980cd9a39c2c",
   "metadata": {},
   "outputs": [
    {
     "name": "stdout",
     "output_type": "stream",
     "text": [
      "0 bcm2835 HDMI 1: - (hw:0,0)\n",
      "1 Cable Creation: USB Audio (hw:1,0)\n",
      "2 bcm2835 Headphones: - (hw:2,0)\n",
      "3 sysdefault\n",
      "4 lavrate\n",
      "5 samplerate\n",
      "6 speexrate\n",
      "7 pulse\n",
      "8 upmix\n",
      "9 vdownmix\n",
      "10 dmix\n",
      "11 default\n"
     ]
    }
   ],
   "source": [
    "p = pyaudio.PyAudio()\n",
    "for dev_index in range(p.get_device_count()):\n",
    "    print(dev_index, p.get_device_info_by_index(dev_index).get('name'))"
   ]
  },
  {
   "cell_type": "code",
   "execution_count": 41,
   "id": "ac289416-5225-45db-916b-65be9435f2bc",
   "metadata": {
    "tags": [
     "parameters"
    ]
   },
   "outputs": [],
   "source": [
    "# These parameters may be set by papermill\n",
    "AUDIO_FORMAT = pyaudio.paInt16    # 16-bit resolution\n",
    "CHANNELS = 1                      # 1 channel\n",
    "RATE = 44100                      # 44.1 kHz sampling rate\n",
    "RATE = 22050\n",
    "FRAMES_PER_BUFFER = 4096          # 2^12 samples for buffer\n",
    "RECORD_SECS = 60                  # seconds to record\n",
    "DEV_INDEX = 1                    # device index found by p.get_device_info_by_index()\n",
    "# WAV_OUTPUT_FILENAME = 'lunga_up.wav' # name of .wav file"
   ]
  },
  {
   "cell_type": "code",
   "execution_count": 42,
   "id": "cc4c907b-bb42-42e0-a538-945c3153b23f",
   "metadata": {},
   "outputs": [],
   "source": [
    "def record():\n",
    "    audio = pyaudio.PyAudio() # create pyaudio instantiation\n",
    "\n",
    "    # create pyaudio stream\n",
    "    stream = audio.open(format = AUDIO_FORMAT,\n",
    "                        rate = RATE,\n",
    "                        channels = CHANNELS,\n",
    "                        input_device_index = DEV_INDEX,\n",
    "                        input = True,\n",
    "                        frames_per_buffer = FRAMES_PER_BUFFER)\n",
    "\n",
    "    frames = []\n",
    "    filename = f'{timestamp()}.wav'\n",
    "    logging.info(f'recording {filename}')\n",
    "    \n",
    "    # loop through stream and append audio chunks to frame array\n",
    "    for chunk in range(0,int((RATE/FRAMES_PER_BUFFER)*RECORD_SECS)):\n",
    "        data = stream.read(FRAMES_PER_BUFFER)\n",
    "        frames.append(data)\n",
    "\n",
    "    # stop the stream, close it, and terminate the pyaudio instantiation\n",
    "    stream.stop_stream()\n",
    "    stream.close()\n",
    "    audio.terminate()\n",
    "\n",
    "    # save the audio frames as .wav file\n",
    "    logging.info(f'saving {filename}')\n",
    "    wavefile = wave.open(filename,'wb')\n",
    "    wavefile.setnchannels(CHANNELS)\n",
    "    wavefile.setsampwidth(audio.get_sample_size(AUDIO_FORMAT))\n",
    "    wavefile.setframerate(RATE)\n",
    "    wavefile.writeframes(b''.join(frames))\n",
    "    wavefile.close()"
   ]
  },
  {
   "cell_type": "code",
   "execution_count": 43,
   "id": "7c1b2547-b175-4cb6-9c07-9baed6b22faf",
   "metadata": {},
   "outputs": [],
   "source": [
    "def update_github():\n",
    "    logging.info(f'updating GitHub')\n",
    "    os.system(\"git pull\")\n",
    "    os.system(\"git add .\")\n",
    "    os.system(\"git commit -m 'commited by record_wav.ipynb'\")\n",
    "    os.system(\"git push\")\n",
    "# update_github()"
   ]
  },
  {
   "cell_type": "code",
   "execution_count": 44,
   "id": "699a8947-ee81-43f4-ae98-0c286ff276ba",
   "metadata": {},
   "outputs": [],
   "source": [
    "def metadata():\n",
    "    return {'time':str(datetime.datetime.now()), 'volts':POW.getVin(0), 'amps':POW.getIin(0), 'temp':POW.getCPUtemp()}\n",
    "\n",
    "# metadata()"
   ]
  },
  {
   "cell_type": "code",
   "execution_count": 45,
   "id": "8ee9b325-badc-4839-8f1f-64dbaf2e7b74",
   "metadata": {},
   "outputs": [],
   "source": [
    "def poweroff():\n",
    "    POW.powerOFF(0)\n",
    "\n",
    "# metadata()"
   ]
  },
  {
   "cell_type": "code",
   "execution_count": 46,
   "id": "beb16888-5abd-459c-ac7e-dbd777d3c8f8",
   "metadata": {},
   "outputs": [],
   "source": [
    "def timestamp():\n",
    "    '''returns local date and time'''\n",
    "    return datetime.datetime.now().strftime(\"%Y%m%d_%H%M%S%f\")\n",
    "\n",
    "# timestamp()"
   ]
  },
  {
   "cell_type": "markdown",
   "id": "21ded3dc-0044-4bec-9ebd-34a9f76043cf",
   "metadata": {},
   "source": [
    "# MAIN"
   ]
  },
  {
   "cell_type": "code",
   "execution_count": 47,
   "id": "23a42018-1ad0-4323-951f-db94b24a4cde",
   "metadata": {},
   "outputs": [
    {
     "name": "stderr",
     "output_type": "stream",
     "text": [
      "Expression 'paInvalidSampleRate' failed in 'src/hostapi/alsa/pa_linux_alsa.c', line: 2048\n",
      "Expression 'PaAlsaStreamComponent_InitialConfigure( &self->capture, inParams, self->primeBuffers, hwParamsCapture, &realSr )' failed in 'src/hostapi/alsa/pa_linux_alsa.c', line: 2719\n",
      "Expression 'PaAlsaStream_Configure( stream, inputParameters, outputParameters, sampleRate, framesPerBuffer, &inputLatency, &outputLatency, &hostBufferSizeMode )' failed in 'src/hostapi/alsa/pa_linux_alsa.c', line: 2843\n"
     ]
    },
    {
     "ename": "OSError",
     "evalue": "[Errno -9997] Invalid sample rate",
     "output_type": "error",
     "traceback": [
      "\u001b[0;31m---------------------------------------------------------------------------\u001b[0m",
      "\u001b[0;31mOSError\u001b[0m                                   Traceback (most recent call last)",
      "\u001b[0;32m/tmp/ipykernel_1369/487831933.py\u001b[0m in \u001b[0;36m<module>\u001b[0;34m\u001b[0m\n\u001b[1;32m      3\u001b[0m                     format = '%(asctime)s:%(levelname)s:%(name)s:%(message)s')\n\u001b[1;32m      4\u001b[0m \u001b[0mlogging\u001b[0m\u001b[0;34m.\u001b[0m\u001b[0minfo\u001b[0m\u001b[0;34m(\u001b[0m\u001b[0mmetadata\u001b[0m\u001b[0;34m(\u001b[0m\u001b[0;34m)\u001b[0m\u001b[0;34m)\u001b[0m\u001b[0;34m\u001b[0m\u001b[0;34m\u001b[0m\u001b[0m\n\u001b[0;32m----> 5\u001b[0;31m \u001b[0mrecord\u001b[0m\u001b[0;34m(\u001b[0m\u001b[0;34m)\u001b[0m\u001b[0;34m\u001b[0m\u001b[0;34m\u001b[0m\u001b[0m\n\u001b[0m\u001b[1;32m      6\u001b[0m \u001b[0mlogging\u001b[0m\u001b[0;34m.\u001b[0m\u001b[0minfo\u001b[0m\u001b[0;34m(\u001b[0m\u001b[0;34m'updating github'\u001b[0m\u001b[0;34m)\u001b[0m\u001b[0;34m\u001b[0m\u001b[0;34m\u001b[0m\u001b[0m\n\u001b[1;32m      7\u001b[0m \u001b[0mupdate_github\u001b[0m\u001b[0;34m(\u001b[0m\u001b[0;34m)\u001b[0m\u001b[0;34m\u001b[0m\u001b[0;34m\u001b[0m\u001b[0m\n",
      "\u001b[0;32m/tmp/ipykernel_1369/4269466896.py\u001b[0m in \u001b[0;36mrecord\u001b[0;34m()\u001b[0m\n\u001b[1;32m      8\u001b[0m                         \u001b[0minput_device_index\u001b[0m \u001b[0;34m=\u001b[0m \u001b[0mDEV_INDEX\u001b[0m\u001b[0;34m,\u001b[0m\u001b[0;34m\u001b[0m\u001b[0;34m\u001b[0m\u001b[0m\n\u001b[1;32m      9\u001b[0m                         \u001b[0minput\u001b[0m \u001b[0;34m=\u001b[0m \u001b[0;32mTrue\u001b[0m\u001b[0;34m,\u001b[0m\u001b[0;34m\u001b[0m\u001b[0;34m\u001b[0m\u001b[0m\n\u001b[0;32m---> 10\u001b[0;31m                         frames_per_buffer = FRAMES_PER_BUFFER)\n\u001b[0m\u001b[1;32m     11\u001b[0m \u001b[0;34m\u001b[0m\u001b[0m\n\u001b[1;32m     12\u001b[0m     \u001b[0mframes\u001b[0m \u001b[0;34m=\u001b[0m \u001b[0;34m[\u001b[0m\u001b[0;34m]\u001b[0m\u001b[0;34m\u001b[0m\u001b[0;34m\u001b[0m\u001b[0m\n",
      "\u001b[0;32m/usr/local/lib/python3.7/dist-packages/pyaudio.py\u001b[0m in \u001b[0;36mopen\u001b[0;34m(self, *args, **kwargs)\u001b[0m\n\u001b[1;32m    748\u001b[0m         \"\"\"\n\u001b[1;32m    749\u001b[0m \u001b[0;34m\u001b[0m\u001b[0m\n\u001b[0;32m--> 750\u001b[0;31m         \u001b[0mstream\u001b[0m \u001b[0;34m=\u001b[0m \u001b[0mStream\u001b[0m\u001b[0;34m(\u001b[0m\u001b[0mself\u001b[0m\u001b[0;34m,\u001b[0m \u001b[0;34m*\u001b[0m\u001b[0margs\u001b[0m\u001b[0;34m,\u001b[0m \u001b[0;34m**\u001b[0m\u001b[0mkwargs\u001b[0m\u001b[0;34m)\u001b[0m\u001b[0;34m\u001b[0m\u001b[0;34m\u001b[0m\u001b[0m\n\u001b[0m\u001b[1;32m    751\u001b[0m         \u001b[0mself\u001b[0m\u001b[0;34m.\u001b[0m\u001b[0m_streams\u001b[0m\u001b[0;34m.\u001b[0m\u001b[0madd\u001b[0m\u001b[0;34m(\u001b[0m\u001b[0mstream\u001b[0m\u001b[0;34m)\u001b[0m\u001b[0;34m\u001b[0m\u001b[0;34m\u001b[0m\u001b[0m\n\u001b[1;32m    752\u001b[0m         \u001b[0;32mreturn\u001b[0m \u001b[0mstream\u001b[0m\u001b[0;34m\u001b[0m\u001b[0;34m\u001b[0m\u001b[0m\n",
      "\u001b[0;32m/usr/local/lib/python3.7/dist-packages/pyaudio.py\u001b[0m in \u001b[0;36m__init__\u001b[0;34m(self, PA_manager, rate, channels, format, input, output, input_device_index, output_device_index, frames_per_buffer, start, input_host_api_specific_stream_info, output_host_api_specific_stream_info, stream_callback)\u001b[0m\n\u001b[1;32m    439\u001b[0m \u001b[0;34m\u001b[0m\u001b[0m\n\u001b[1;32m    440\u001b[0m         \u001b[0;31m# calling pa.open returns a stream object\u001b[0m\u001b[0;34m\u001b[0m\u001b[0;34m\u001b[0m\u001b[0;34m\u001b[0m\u001b[0m\n\u001b[0;32m--> 441\u001b[0;31m         \u001b[0mself\u001b[0m\u001b[0;34m.\u001b[0m\u001b[0m_stream\u001b[0m \u001b[0;34m=\u001b[0m \u001b[0mpa\u001b[0m\u001b[0;34m.\u001b[0m\u001b[0mopen\u001b[0m\u001b[0;34m(\u001b[0m\u001b[0;34m**\u001b[0m\u001b[0marguments\u001b[0m\u001b[0;34m)\u001b[0m\u001b[0;34m\u001b[0m\u001b[0;34m\u001b[0m\u001b[0m\n\u001b[0m\u001b[1;32m    442\u001b[0m \u001b[0;34m\u001b[0m\u001b[0m\n\u001b[1;32m    443\u001b[0m         \u001b[0mself\u001b[0m\u001b[0;34m.\u001b[0m\u001b[0m_input_latency\u001b[0m \u001b[0;34m=\u001b[0m \u001b[0mself\u001b[0m\u001b[0;34m.\u001b[0m\u001b[0m_stream\u001b[0m\u001b[0;34m.\u001b[0m\u001b[0minputLatency\u001b[0m\u001b[0;34m\u001b[0m\u001b[0;34m\u001b[0m\u001b[0m\n",
      "\u001b[0;31mOSError\u001b[0m: [Errno -9997] Invalid sample rate"
     ]
    }
   ],
   "source": [
    "logging.basicConfig(filename = 'record_wav.log',\n",
    "                    level = logging.DEBUG,\n",
    "                    format = '%(asctime)s:%(levelname)s:%(name)s:%(message)s')\n",
    "logging.info(metadata())\n",
    "record()\n",
    "logging.info('updating github')\n",
    "update_github()\n",
    "logging.info(metadata())\n",
    "logging.info('FINISHED ----------')"
   ]
  },
  {
   "cell_type": "code",
   "execution_count": null,
   "id": "9ea276de-ff20-4ef9-97e1-0bb6773a3ba8",
   "metadata": {},
   "outputs": [],
   "source": [
    "print('FINISHED')"
   ]
  }
 ],
 "metadata": {
  "kernelspec": {
   "display_name": "Python 3 (ipykernel)",
   "language": "python",
   "name": "python3"
  },
  "language_info": {
   "codemirror_mode": {
    "name": "ipython",
    "version": 3
   },
   "file_extension": ".py",
   "mimetype": "text/x-python",
   "name": "python",
   "nbconvert_exporter": "python",
   "pygments_lexer": "ipython3",
   "version": "3.7.3"
  }
 },
 "nbformat": 4,
 "nbformat_minor": 5
}
