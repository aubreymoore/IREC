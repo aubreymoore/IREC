{
 "cells": [
  {
   "cell_type": "code",
   "execution_count": 1,
   "id": "d6039f1b-679e-42a3-af1d-4df173a937e4",
   "metadata": {
    "execution": {
     "iopub.execute_input": "2022-12-28T03:52:55.222501Z",
     "iopub.status.busy": "2022-12-28T03:52:55.197277Z",
     "iopub.status.idle": "2022-12-28T03:52:55.471558Z",
     "shell.execute_reply": "2022-12-28T03:52:55.468209Z"
    },
    "papermill": {
     "duration": 0.341952,
     "end_time": "2022-12-28T03:52:55.472186",
     "exception": false,
     "start_time": "2022-12-28T03:52:55.130234",
     "status": "completed"
    },
    "tags": []
   },
   "outputs": [],
   "source": [
    "# import pyaudio\n",
    "import wave\n",
    "import sys\n",
    "import os\n",
    "import piplates.POWERplate as POW\n",
    "import datetime\n",
    "import logging\n",
    "import datetime"
   ]
  },
  {
   "cell_type": "markdown",
   "id": "e49b9368-1b12-4d84-b062-48730a91533f",
   "metadata": {
    "papermill": {
     "duration": 0.047678,
     "end_time": "2022-12-28T03:52:55.569056",
     "exception": false,
     "start_time": "2022-12-28T03:52:55.521378",
     "status": "completed"
    },
    "tags": []
   },
   "source": [
    "# DOES NOT RUN ON UBUNTU 20.04 / PYTHON 3.9 BECAUSE I CAN'T GET pyaudiIo TO INSTALL PROPERLY \n",
    "\n",
    "On my Ubuntu 20.04 machine I tried to install pyaudio using\n",
    "```\n",
    "sudo apt-get install -y python3-pyaudio\n",
    "```\n",
    "FAILED"
   ]
  },
  {
   "cell_type": "code",
   "execution_count": 2,
   "id": "97adc04e-1f68-4ce4-aa1d-11db6ea1236e",
   "metadata": {
    "execution": {
     "iopub.execute_input": "2022-12-28T03:52:55.717771Z",
     "iopub.status.busy": "2022-12-28T03:52:55.704066Z",
     "iopub.status.idle": "2022-12-28T03:52:55.730753Z",
     "shell.execute_reply": "2022-12-28T03:52:55.727734Z"
    },
    "papermill": {
     "duration": 0.113237,
     "end_time": "2022-12-28T03:52:55.731382",
     "exception": false,
     "start_time": "2022-12-28T03:52:55.618145",
     "status": "completed"
    },
    "tags": []
   },
   "outputs": [
    {
     "data": {
      "text/plain": [
       "'3.7.3 (default, Jan 22 2021, 20:04:44) \\n[GCC 8.3.0]'"
      ]
     },
     "execution_count": 2,
     "metadata": {},
     "output_type": "execute_result"
    }
   ],
   "source": [
    "sys.version"
   ]
  },
  {
   "cell_type": "raw",
   "id": "15714085-5912-41a9-83e4-71ceb7b9c8e3",
   "metadata": {
    "papermill": {
     "duration": 0.068719,
     "end_time": "2022-12-28T03:52:55.850953",
     "exception": false,
     "start_time": "2022-12-28T03:52:55.782234",
     "status": "completed"
    },
    "tags": []
   },
   "source": [
    "p = pyaudio.PyAudio()\n",
    "for dev_index in range(p.get_device_count()):\n",
    "    print(dev_index, p.get_device_info_by_index(dev_index).get('name'))"
   ]
  },
  {
   "cell_type": "code",
   "execution_count": 3,
   "id": "ac289416-5225-45db-916b-65be9435f2bc",
   "metadata": {
    "execution": {
     "iopub.execute_input": "2022-12-28T03:52:55.974197Z",
     "iopub.status.busy": "2022-12-28T03:52:55.970018Z",
     "iopub.status.idle": "2022-12-28T03:52:55.985246Z",
     "shell.execute_reply": "2022-12-28T03:52:55.981814Z"
    },
    "papermill": {
     "duration": 0.083955,
     "end_time": "2022-12-28T03:52:55.985888",
     "exception": false,
     "start_time": "2022-12-28T03:52:55.901933",
     "status": "completed"
    },
    "tags": [
     "parameters"
    ]
   },
   "outputs": [],
   "source": [
    "# These parameters may be set by papermill\n",
    "# AUDIO_FORMAT = pyaudio.paInt16    # 16-bit resolution\n",
    "CHANNELS = 1                      # 1 channel\n",
    "RATE = 44100                      # 44.1 kHz sampling rate\n",
    "FRAMES_PER_BUFFER = 4096          # 2^12 samples for buffer\n",
    "RECORD_SECS = 60                  # seconds to record\n",
    "DEV_INDEX = 1                    # device index found by p.get_device_info_by_index()\n",
    "# WAV_OUTPUT_FILENAME = 'lunga_up.wav' # name of .wav file"
   ]
  },
  {
   "cell_type": "raw",
   "id": "737b22a3-41a3-4461-9602-e63b37143bb2",
   "metadata": {
    "papermill": {
     "duration": 0.05143,
     "end_time": "2022-12-28T03:52:56.088139",
     "exception": false,
     "start_time": "2022-12-28T03:52:56.036709",
     "status": "completed"
    },
    "tags": []
   },
   "source": [
    "def record():\n",
    "    audio = pyaudio.PyAudio() # create pyaudio instantiation\n",
    "\n",
    "    # create pyaudio stream\n",
    "    stream = audio.open(format = AUDIO_FORMAT,\n",
    "                        rate = RATE,\n",
    "                        channels = CHANNELS,\n",
    "                        input_device_index = DEV_INDEX,\n",
    "                        input = True,\n",
    "                        frames_per_buffer = FRAMES_PER_BUFFER)\n",
    "\n",
    "    frames = []\n",
    "    filename = f'{timestamp()}.wav'\n",
    "    logging.info(f'recording {filename}')\n",
    "    \n",
    "    # loop through stream and append audio chunks to frame array\n",
    "    for chunk in range(0,int((RATE/FRAMES_PER_BUFFER)*RECORD_SECS)):\n",
    "        data = stream.read(FRAMES_PER_BUFFER)\n",
    "        frames.append(data)\n",
    "\n",
    "    # stop the stream, close it, and terminate the pyaudio instantiation\n",
    "    stream.stop_stream()\n",
    "    stream.close()\n",
    "    audio.terminate()\n",
    "\n",
    "    # save the audio frames as .wav file\n",
    "    logging.info(f'saving {filename}')\n",
    "    wavefile = wave.open(filename,'wb')\n",
    "    wavefile.setnchannels(CHANNELS)\n",
    "    wavefile.setsampwidth(audio.get_sample_size(AUDIO_FORMAT))\n",
    "    wavefile.setframerate(RATE)\n",
    "    wavefile.writeframes(b''.join(frames))\n",
    "    wavefile.close()"
   ]
  },
  {
   "cell_type": "code",
   "execution_count": 4,
   "id": "37255997-1925-451e-a708-500fd3ac5d1a",
   "metadata": {
    "execution": {
     "iopub.execute_input": "2022-12-28T03:52:56.249504Z",
     "iopub.status.busy": "2022-12-28T03:52:56.245459Z",
     "iopub.status.idle": "2022-12-28T03:52:56.257014Z",
     "shell.execute_reply": "2022-12-28T03:52:56.253698Z"
    },
    "papermill": {
     "duration": 0.110156,
     "end_time": "2022-12-28T03:52:56.257636",
     "exception": false,
     "start_time": "2022-12-28T03:52:56.147480",
     "status": "completed"
    },
    "tags": []
   },
   "outputs": [],
   "source": [
    "def record1():\n",
    "    filename = timestamp()\n",
    "    logging.info(f'recording {filename}')\n",
    "    os.system(f'arecord -d 60 -r 22000 {timestamp()}.wav')\n",
    "        \n",
    "# record1()"
   ]
  },
  {
   "cell_type": "code",
   "execution_count": 5,
   "id": "7c1b2547-b175-4cb6-9c07-9baed6b22faf",
   "metadata": {
    "execution": {
     "iopub.execute_input": "2022-12-28T03:52:56.385951Z",
     "iopub.status.busy": "2022-12-28T03:52:56.381801Z",
     "iopub.status.idle": "2022-12-28T03:52:56.390684Z",
     "shell.execute_reply": "2022-12-28T03:52:56.393282Z"
    },
    "papermill": {
     "duration": 0.084972,
     "end_time": "2022-12-28T03:52:56.394152",
     "exception": false,
     "start_time": "2022-12-28T03:52:56.309180",
     "status": "completed"
    },
    "tags": []
   },
   "outputs": [],
   "source": [
    "def update_github():\n",
    "    logging.info(f'updating GitHub')\n",
    "    os.system(\"git pull\")\n",
    "    os.system(\"git add .\")\n",
    "    os.system(\"git commit -m 'commited by record_wav.ipynb'\")\n",
    "    os.system(\"git push\")\n",
    "# update_github()"
   ]
  },
  {
   "cell_type": "code",
   "execution_count": 6,
   "id": "699a8947-ee81-43f4-ae98-0c286ff276ba",
   "metadata": {
    "execution": {
     "iopub.execute_input": "2022-12-28T03:52:56.524708Z",
     "iopub.status.busy": "2022-12-28T03:52:56.520623Z",
     "iopub.status.idle": "2022-12-28T03:52:56.529154Z",
     "shell.execute_reply": "2022-12-28T03:52:56.531763Z"
    },
    "papermill": {
     "duration": 0.085914,
     "end_time": "2022-12-28T03:52:56.532501",
     "exception": false,
     "start_time": "2022-12-28T03:52:56.446587",
     "status": "completed"
    },
    "tags": []
   },
   "outputs": [],
   "source": [
    "def metadata():\n",
    "    return {'time':str(datetime.datetime.now()), 'volts':POW.getVin(0), 'amps':POW.getIin(0), 'temp':POW.getCPUtemp()}\n",
    "\n",
    "# metadata()"
   ]
  },
  {
   "cell_type": "code",
   "execution_count": 7,
   "id": "8ee9b325-badc-4839-8f1f-64dbaf2e7b74",
   "metadata": {
    "execution": {
     "iopub.execute_input": "2022-12-28T03:52:56.660148Z",
     "iopub.status.busy": "2022-12-28T03:52:56.656091Z",
     "iopub.status.idle": "2022-12-28T03:52:56.668286Z",
     "shell.execute_reply": "2022-12-28T03:52:56.665623Z"
    },
    "papermill": {
     "duration": 0.083437,
     "end_time": "2022-12-28T03:52:56.668934",
     "exception": false,
     "start_time": "2022-12-28T03:52:56.585497",
     "status": "completed"
    },
    "tags": []
   },
   "outputs": [],
   "source": [
    "def poweroff():\n",
    "    POW.powerOFF(0)\n",
    "\n",
    "# metadata()"
   ]
  },
  {
   "cell_type": "code",
   "execution_count": 8,
   "id": "beb16888-5abd-459c-ac7e-dbd777d3c8f8",
   "metadata": {
    "execution": {
     "iopub.execute_input": "2022-12-28T03:52:56.801023Z",
     "iopub.status.busy": "2022-12-28T03:52:56.796989Z",
     "iopub.status.idle": "2022-12-28T03:52:56.805633Z",
     "shell.execute_reply": "2022-12-28T03:52:56.808268Z"
    },
    "papermill": {
     "duration": 0.086556,
     "end_time": "2022-12-28T03:52:56.809003",
     "exception": false,
     "start_time": "2022-12-28T03:52:56.722447",
     "status": "completed"
    },
    "tags": []
   },
   "outputs": [],
   "source": [
    "def timestamp():\n",
    "    '''returns local date and time'''\n",
    "    return datetime.datetime.now().strftime(\"%Y%m%d_%H%M%S%f\")\n",
    "\n",
    "# timestamp()"
   ]
  },
  {
   "cell_type": "markdown",
   "id": "21ded3dc-0044-4bec-9ebd-34a9f76043cf",
   "metadata": {
    "papermill": {
     "duration": 0.055069,
     "end_time": "2022-12-28T03:52:56.918163",
     "exception": false,
     "start_time": "2022-12-28T03:52:56.863094",
     "status": "completed"
    },
    "tags": []
   },
   "source": [
    "# MAIN"
   ]
  },
  {
   "cell_type": "code",
   "execution_count": null,
   "id": "23a42018-1ad0-4323-951f-db94b24a4cde",
   "metadata": {
    "papermill": {
     "duration": null,
     "end_time": null,
     "exception": false,
     "start_time": "2022-12-28T03:52:56.972559",
     "status": "running"
    },
    "tags": []
   },
   "outputs": [],
   "source": [
    "logging.basicConfig(filename = 'record_wav.log',\n",
    "                    level=logging.DEBUG, \n",
    "                    format='%(asctime)s :: %(levelname)s :: %(message)s')\n",
    "\n",
    "logging.info(metadata())\n",
    "\n",
    "record1()\n",
    "update_github()\n",
    "\n",
    "logging.info(metadata())\n",
    "logging.info('FINISHED ----------')"
   ]
  },
  {
   "cell_type": "code",
   "execution_count": null,
   "id": "9ea276de-ff20-4ef9-97e1-0bb6773a3ba8",
   "metadata": {
    "papermill": {
     "duration": null,
     "end_time": null,
     "exception": null,
     "start_time": null,
     "status": "pending"
    },
    "tags": []
   },
   "outputs": [],
   "source": [
    "print('FINISHED')"
   ]
  }
 ],
 "metadata": {
  "kernelspec": {
   "display_name": "Python 3 (ipykernel)",
   "language": "python",
   "name": "python3"
  },
  "language_info": {
   "codemirror_mode": {
    "name": "ipython",
    "version": 3
   },
   "file_extension": ".py",
   "mimetype": "text/x-python",
   "name": "python",
   "nbconvert_exporter": "python",
   "pygments_lexer": "ipython3",
   "version": "3.7.3"
  },
  "papermill": {
   "default_parameters": {},
   "duration": null,
   "end_time": null,
   "environment_variables": {},
   "exception": null,
   "input_path": "record_wav.ipynb",
   "output_path": "temp.ipynb",
   "parameters": {},
   "start_time": "2022-12-28T03:52:50.781491",
   "version": "2.4.0"
  }
 },
 "nbformat": 4,
 "nbformat_minor": 5
}