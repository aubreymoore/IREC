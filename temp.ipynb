{
 "cells": [
  {
   "cell_type": "code",
   "execution_count": 1,
   "id": "d6039f1b-679e-42a3-af1d-4df173a937e4",
   "metadata": {
    "execution": {
     "iopub.execute_input": "2022-12-29T03:44:15.759996Z",
     "iopub.status.busy": "2022-12-29T03:44:15.752409Z",
     "iopub.status.idle": "2022-12-29T03:44:15.885532Z",
     "shell.execute_reply": "2022-12-29T03:44:15.888143Z"
    },
    "papermill": {
     "duration": 0.24894,
     "end_time": "2022-12-29T03:44:15.889072",
     "exception": false,
     "start_time": "2022-12-29T03:44:15.640132",
     "status": "completed"
    },
    "tags": []
   },
   "outputs": [],
   "source": [
    "# import pyaudio\n",
    "import wave\n",
    "import sys\n",
    "import os\n",
    "import piplates.POWERplate as POW\n",
    "import datetime\n",
    "import logging\n",
    "import datetime"
   ]
  },
  {
   "cell_type": "markdown",
   "id": "e49b9368-1b12-4d84-b062-48730a91533f",
   "metadata": {
    "papermill": {
     "duration": 0.062266,
     "end_time": "2022-12-29T03:44:16.002024",
     "exception": false,
     "start_time": "2022-12-29T03:44:15.939758",
     "status": "completed"
    },
    "tags": []
   },
   "source": [
    "# DOES NOT RUN ON UBUNTU 20.04 / PYTHON 3.9 BECAUSE I CAN'T GET pyaudiIo TO INSTALL PROPERLY \n",
    "\n",
    "On my Ubuntu 20.04 machine I tried to install pyaudio using\n",
    "```\n",
    "sudo apt-get install -y python3-pyaudio\n",
    "```\n",
    "FAILED"
   ]
  },
  {
   "cell_type": "code",
   "execution_count": 2,
   "id": "97adc04e-1f68-4ce4-aa1d-11db6ea1236e",
   "metadata": {
    "execution": {
     "iopub.execute_input": "2022-12-29T03:44:16.163859Z",
     "iopub.status.busy": "2022-12-29T03:44:16.159576Z",
     "iopub.status.idle": "2022-12-29T03:44:16.204740Z",
     "shell.execute_reply": "2022-12-29T03:44:16.201987Z"
    },
    "papermill": {
     "duration": 0.142658,
     "end_time": "2022-12-29T03:44:16.205349",
     "exception": false,
     "start_time": "2022-12-29T03:44:16.062691",
     "status": "completed"
    },
    "tags": []
   },
   "outputs": [
    {
     "data": {
      "text/plain": [
       "'3.7.3 (default, Jan 22 2021, 20:04:44) \\n[GCC 8.3.0]'"
      ]
     },
     "execution_count": 2,
     "metadata": {},
     "output_type": "execute_result"
    }
   ],
   "source": [
    "sys.version"
   ]
  },
  {
   "cell_type": "raw",
   "id": "15714085-5912-41a9-83e4-71ceb7b9c8e3",
   "metadata": {
    "papermill": {
     "duration": 0.05868,
     "end_time": "2022-12-29T03:44:16.316149",
     "exception": false,
     "start_time": "2022-12-29T03:44:16.257469",
     "status": "completed"
    },
    "tags": []
   },
   "source": [
    "p = pyaudio.PyAudio()\n",
    "for dev_index in range(p.get_device_count()):\n",
    "    print(dev_index, p.get_device_info_by_index(dev_index).get('name'))"
   ]
  },
  {
   "cell_type": "code",
   "execution_count": 3,
   "id": "ac289416-5225-45db-916b-65be9435f2bc",
   "metadata": {
    "execution": {
     "iopub.execute_input": "2022-12-29T03:44:16.475775Z",
     "iopub.status.busy": "2022-12-29T03:44:16.471064Z",
     "iopub.status.idle": "2022-12-29T03:44:16.481363Z",
     "shell.execute_reply": "2022-12-29T03:44:16.486549Z"
    },
    "papermill": {
     "duration": 0.109841,
     "end_time": "2022-12-29T03:44:16.487887",
     "exception": false,
     "start_time": "2022-12-29T03:44:16.378046",
     "status": "completed"
    },
    "tags": [
     "parameters"
    ]
   },
   "outputs": [],
   "source": [
    "# These parameters may be set by papermill\n",
    "# AUDIO_FORMAT = pyaudio.paInt16    # 16-bit resolution\n",
    "CHANNELS = 1                      # 1 channel\n",
    "RATE = 44100                      # 44.1 kHz sampling rate\n",
    "FRAMES_PER_BUFFER = 4096          # 2^12 samples for buffer\n",
    "RECORD_SECS = 60                  # seconds to record\n",
    "DEV_INDEX = 1                    # device index found by p.get_device_info_by_index()\n",
    "# WAV_OUTPUT_FILENAME = 'lunga_up.wav' # name of .wav file"
   ]
  },
  {
   "cell_type": "raw",
   "id": "737b22a3-41a3-4461-9602-e63b37143bb2",
   "metadata": {
    "papermill": {
     "duration": 0.065543,
     "end_time": "2022-12-29T03:44:16.606432",
     "exception": false,
     "start_time": "2022-12-29T03:44:16.540889",
     "status": "completed"
    },
    "tags": []
   },
   "source": [
    "def record():\n",
    "    audio = pyaudio.PyAudio() # create pyaudio instantiation\n",
    "\n",
    "    # create pyaudio stream\n",
    "    stream = audio.open(format = AUDIO_FORMAT,\n",
    "                        rate = RATE,\n",
    "                        channels = CHANNELS,\n",
    "                        input_device_index = DEV_INDEX,\n",
    "                        input = True,\n",
    "                        frames_per_buffer = FRAMES_PER_BUFFER)\n",
    "\n",
    "    frames = []\n",
    "    filename = f'{timestamp()}.wav'\n",
    "    logging.info(f'recording {filename}')\n",
    "    \n",
    "    # loop through stream and append audio chunks to frame array\n",
    "    for chunk in range(0,int((RATE/FRAMES_PER_BUFFER)*RECORD_SECS)):\n",
    "        data = stream.read(FRAMES_PER_BUFFER)\n",
    "        frames.append(data)\n",
    "\n",
    "    # stop the stream, close it, and terminate the pyaudio instantiation\n",
    "    stream.stop_stream()\n",
    "    stream.close()\n",
    "    audio.terminate()\n",
    "\n",
    "    # save the audio frames as .wav file\n",
    "    logging.info(f'saving {filename}')\n",
    "    wavefile = wave.open(filename,'wb')\n",
    "    wavefile.setnchannels(CHANNELS)\n",
    "    wavefile.setsampwidth(audio.get_sample_size(AUDIO_FORMAT))\n",
    "    wavefile.setframerate(RATE)\n",
    "    wavefile.writeframes(b''.join(frames))\n",
    "    wavefile.close()"
   ]
  },
  {
   "cell_type": "code",
   "execution_count": 4,
   "id": "37255997-1925-451e-a708-500fd3ac5d1a",
   "metadata": {
    "execution": {
     "iopub.execute_input": "2022-12-29T03:44:16.768786Z",
     "iopub.status.busy": "2022-12-29T03:44:16.764133Z",
     "iopub.status.idle": "2022-12-29T03:44:16.774250Z",
     "shell.execute_reply": "2022-12-29T03:44:16.778852Z"
    },
    "papermill": {
     "duration": 0.108756,
     "end_time": "2022-12-29T03:44:16.780595",
     "exception": false,
     "start_time": "2022-12-29T03:44:16.671839",
     "status": "completed"
    },
    "tags": []
   },
   "outputs": [],
   "source": [
    "def record1():\n",
    "    filename = timestamp()\n",
    "    logging.info(f'recording {filename}')\n",
    "    os.system(f'arecord -d 60 -r 22000 {timestamp()}.wav')\n",
    "        \n",
    "# record1()"
   ]
  },
  {
   "cell_type": "code",
   "execution_count": 5,
   "id": "7c1b2547-b175-4cb6-9c07-9baed6b22faf",
   "metadata": {
    "execution": {
     "iopub.execute_input": "2022-12-29T03:44:16.930004Z",
     "iopub.status.busy": "2022-12-29T03:44:16.925253Z",
     "iopub.status.idle": "2022-12-29T03:44:16.940897Z",
     "shell.execute_reply": "2022-12-29T03:44:16.935266Z"
    },
    "papermill": {
     "duration": 0.107293,
     "end_time": "2022-12-29T03:44:16.942011",
     "exception": false,
     "start_time": "2022-12-29T03:44:16.834718",
     "status": "completed"
    },
    "tags": []
   },
   "outputs": [],
   "source": [
    "def update_github():\n",
    "    logging.info(f'updating GitHub')\n",
    "    os.system(\"git pull\")\n",
    "    os.system(\"git add .\")\n",
    "    os.system(\"git commit -m 'commited by record_wav.ipynb'\")\n",
    "    os.system(\"git push\")\n",
    "# update_github()"
   ]
  },
  {
   "cell_type": "code",
   "execution_count": 6,
   "id": "699a8947-ee81-43f4-ae98-0c286ff276ba",
   "metadata": {
    "execution": {
     "iopub.execute_input": "2022-12-29T03:44:17.100979Z",
     "iopub.status.busy": "2022-12-29T03:44:17.096951Z",
     "iopub.status.idle": "2022-12-29T03:44:17.110065Z",
     "shell.execute_reply": "2022-12-29T03:44:17.106673Z"
    },
    "papermill": {
     "duration": 0.114084,
     "end_time": "2022-12-29T03:44:17.110684",
     "exception": false,
     "start_time": "2022-12-29T03:44:16.996600",
     "status": "completed"
    },
    "tags": []
   },
   "outputs": [],
   "source": [
    "def metadata():\n",
    "    return {'time':str(datetime.datetime.now()), 'volts':POW.getVin(0), 'amps':POW.getIin(0), 'temp':POW.getCPUtemp()}\n",
    "\n",
    "# metadata()"
   ]
  },
  {
   "cell_type": "code",
   "execution_count": 7,
   "id": "8ee9b325-badc-4839-8f1f-64dbaf2e7b74",
   "metadata": {
    "execution": {
     "iopub.execute_input": "2022-12-29T03:44:17.256512Z",
     "iopub.status.busy": "2022-12-29T03:44:17.250160Z",
     "iopub.status.idle": "2022-12-29T03:44:17.268929Z",
     "shell.execute_reply": "2022-12-29T03:44:17.274227Z"
    },
    "papermill": {
     "duration": 0.109027,
     "end_time": "2022-12-29T03:44:17.275503",
     "exception": false,
     "start_time": "2022-12-29T03:44:17.166476",
     "status": "completed"
    },
    "tags": []
   },
   "outputs": [],
   "source": [
    "def poweroff():\n",
    "    POW.powerOFF(0)\n",
    "\n",
    "# metadata()"
   ]
  },
  {
   "cell_type": "code",
   "execution_count": 8,
   "id": "beb16888-5abd-459c-ac7e-dbd777d3c8f8",
   "metadata": {
    "execution": {
     "iopub.execute_input": "2022-12-29T03:44:17.423223Z",
     "iopub.status.busy": "2022-12-29T03:44:17.416240Z",
     "iopub.status.idle": "2022-12-29T03:44:17.440153Z",
     "shell.execute_reply": "2022-12-29T03:44:17.444057Z"
    },
    "papermill": {
     "duration": 0.11318,
     "end_time": "2022-12-29T03:44:17.444936",
     "exception": false,
     "start_time": "2022-12-29T03:44:17.331756",
     "status": "completed"
    },
    "tags": []
   },
   "outputs": [],
   "source": [
    "def timestamp():\n",
    "    '''returns local date and time'''\n",
    "    return datetime.datetime.now().strftime(\"%Y%m%d_%H%M%S%f\")\n",
    "\n",
    "# timestamp()"
   ]
  },
  {
   "cell_type": "markdown",
   "id": "21ded3dc-0044-4bec-9ebd-34a9f76043cf",
   "metadata": {
    "papermill": {
     "duration": 0.068524,
     "end_time": "2022-12-29T03:44:17.569298",
     "exception": false,
     "start_time": "2022-12-29T03:44:17.500774",
     "status": "completed"
    },
    "tags": []
   },
   "source": [
    "# MAIN"
   ]
  },
  {
   "cell_type": "code",
   "execution_count": null,
   "id": "23a42018-1ad0-4323-951f-db94b24a4cde",
   "metadata": {
    "papermill": {
     "duration": null,
     "end_time": null,
     "exception": false,
     "start_time": "2022-12-29T03:44:17.637351",
     "status": "running"
    },
    "tags": []
   },
   "outputs": [],
   "source": [
    "logging.basicConfig(filename = 'record_wav.log',\n",
    "                    level=logging.DEBUG, \n",
    "                    format='%(asctime)s :: %(levelname)s :: %(message)s')\n",
    "\n",
    "logging.info(metadata())\n",
    "\n",
    "record1()\n",
    "update_github()\n",
    "\n",
    "logging.info(metadata())\n",
    "logging.info('FINISHED ----------')"
   ]
  },
  {
   "cell_type": "code",
   "execution_count": null,
   "id": "9ea276de-ff20-4ef9-97e1-0bb6773a3ba8",
   "metadata": {
    "papermill": {
     "duration": null,
     "end_time": null,
     "exception": null,
     "start_time": null,
     "status": "pending"
    },
    "tags": []
   },
   "outputs": [],
   "source": [
    "print('FINISHED')"
   ]
  }
 ],
 "metadata": {
  "kernelspec": {
   "display_name": "Python 3 (ipykernel)",
   "language": "python",
   "name": "python3"
  },
  "language_info": {
   "codemirror_mode": {
    "name": "ipython",
    "version": 3
   },
   "file_extension": ".py",
   "mimetype": "text/x-python",
   "name": "python",
   "nbconvert_exporter": "python",
   "pygments_lexer": "ipython3",
   "version": "3.7.3"
  },
  "papermill": {
   "default_parameters": {},
   "duration": null,
   "end_time": null,
   "environment_variables": {},
   "exception": null,
   "input_path": "record_wav.ipynb",
   "output_path": "temp.ipynb",
   "parameters": {},
   "start_time": "2022-12-29T03:44:11.970651",
   "version": "2.4.0"
  }
 },
 "nbformat": 4,
 "nbformat_minor": 5
}