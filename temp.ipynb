{
 "cells": [
  {
   "cell_type": "code",
   "execution_count": 1,
   "id": "d6039f1b-679e-42a3-af1d-4df173a937e4",
   "metadata": {
    "execution": {
     "iopub.execute_input": "2023-01-06T03:46:41.520331Z",
     "iopub.status.busy": "2023-01-06T03:46:41.491672Z",
     "iopub.status.idle": "2023-01-06T03:46:41.812984Z",
     "shell.execute_reply": "2023-01-06T03:46:41.809015Z"
    },
    "papermill": {
     "duration": 0.415532,
     "end_time": "2023-01-06T03:46:41.813754",
     "exception": false,
     "start_time": "2023-01-06T03:46:41.398222",
     "status": "completed"
    },
    "tags": []
   },
   "outputs": [],
   "source": [
    "# import pyaudio\n",
    "import wave\n",
    "import sys\n",
    "import os\n",
    "import piplates.POWERplate as POW\n",
    "import datetime\n",
    "import logging\n",
    "import datetime"
   ]
  },
  {
   "cell_type": "markdown",
   "id": "e49b9368-1b12-4d84-b062-48730a91533f",
   "metadata": {
    "papermill": {
     "duration": 0.0745,
     "end_time": "2023-01-06T03:46:41.948244",
     "exception": false,
     "start_time": "2023-01-06T03:46:41.873744",
     "status": "completed"
    },
    "tags": []
   },
   "source": [
    "# DOES NOT RUN ON UBUNTU 20.04 / PYTHON 3.9 BECAUSE I CAN'T GET pyaudio TO INSTALL PROPERLY \n",
    "\n",
    "On my Ubuntu 20.04 machine I tried to install pyaudio using\n",
    "```\n",
    "sudo apt-get install -y python3-pyaudio\n",
    "```\n",
    "FAILED"
   ]
  },
  {
   "cell_type": "code",
   "execution_count": 2,
   "id": "97adc04e-1f68-4ce4-aa1d-11db6ea1236e",
   "metadata": {
    "execution": {
     "iopub.execute_input": "2023-01-06T03:46:42.120288Z",
     "iopub.status.busy": "2023-01-06T03:46:42.113121Z",
     "iopub.status.idle": "2023-01-06T03:46:42.171365Z",
     "shell.execute_reply": "2023-01-06T03:46:42.168541Z"
    },
    "papermill": {
     "duration": 0.151662,
     "end_time": "2023-01-06T03:46:42.171977",
     "exception": false,
     "start_time": "2023-01-06T03:46:42.020315",
     "status": "completed"
    },
    "tags": []
   },
   "outputs": [
    {
     "data": {
      "text/plain": [
       "'3.7.3 (default, Jan 22 2021, 20:04:44) \\n[GCC 8.3.0]'"
      ]
     },
     "execution_count": 2,
     "metadata": {},
     "output_type": "execute_result"
    }
   ],
   "source": [
    "sys.version"
   ]
  },
  {
   "cell_type": "raw",
   "id": "15714085-5912-41a9-83e4-71ceb7b9c8e3",
   "metadata": {
    "papermill": {
     "duration": 0.074368,
     "end_time": "2023-01-06T03:46:42.303773",
     "exception": false,
     "start_time": "2023-01-06T03:46:42.229405",
     "status": "completed"
    },
    "tags": []
   },
   "source": [
    "p = pyaudio.PyAudio()\n",
    "for dev_index in range(p.get_device_count()):\n",
    "    print(dev_index, p.get_device_info_by_index(dev_index).get('name'))"
   ]
  },
  {
   "cell_type": "code",
   "execution_count": 3,
   "id": "ac289416-5225-45db-916b-65be9435f2bc",
   "metadata": {
    "execution": {
     "iopub.execute_input": "2023-01-06T03:46:42.505489Z",
     "iopub.status.busy": "2023-01-06T03:46:42.487047Z",
     "iopub.status.idle": "2023-01-06T03:46:42.528316Z",
     "shell.execute_reply": "2023-01-06T03:46:42.524570Z"
    },
    "papermill": {
     "duration": 0.139241,
     "end_time": "2023-01-06T03:46:42.528941",
     "exception": false,
     "start_time": "2023-01-06T03:46:42.389700",
     "status": "completed"
    },
    "tags": [
     "parameters"
    ]
   },
   "outputs": [],
   "source": [
    "# These parameters may be set by papermill\n",
    "# AUDIO_FORMAT = pyaudio.paInt16    # 16-bit resolution\n",
    "CHANNELS = 1                      # 1 channel\n",
    "RATE = 22050                      # sample rate\n",
    "FRAMES_PER_BUFFER = 4096          # 2^12 samples for buffer\n",
    "RECORD_SECS = 60                  # seconds to record for each WAV file\n",
    "DEV_INDEX = 1                    # device index found by p.get_device_info_by_index()\n",
    "# WAV_OUTPUT_FILENAME = 'lunga_up.wav' # name of .wav file\n",
    "WAVCOUNT = 10                    # number of WAV files to record "
   ]
  },
  {
   "cell_type": "code",
   "execution_count": 4,
   "id": "f8aa2afd",
   "metadata": {
    "execution": {
     "iopub.execute_input": "2023-01-06T03:46:42.697132Z",
     "iopub.status.busy": "2023-01-06T03:46:42.689865Z",
     "iopub.status.idle": "2023-01-06T03:46:42.709951Z",
     "shell.execute_reply": "2023-01-06T03:46:42.706657Z"
    },
    "papermill": {
     "duration": 0.122946,
     "end_time": "2023-01-06T03:46:42.710558",
     "exception": false,
     "start_time": "2023-01-06T03:46:42.587612",
     "status": "completed"
    },
    "tags": [
     "injected-parameters"
    ]
   },
   "outputs": [],
   "source": [
    "# Parameters\n",
    "WAVCOUNT = 20\n"
   ]
  },
  {
   "cell_type": "code",
   "execution_count": 5,
   "id": "48603bae-1fe5-471d-879e-0544ea2edadc",
   "metadata": {
    "execution": {
     "iopub.execute_input": "2023-01-06T03:46:42.892540Z",
     "iopub.status.busy": "2023-01-06T03:46:42.888108Z",
     "iopub.status.idle": "2023-01-06T03:46:42.909427Z",
     "shell.execute_reply": "2023-01-06T03:46:42.906636Z"
    },
    "papermill": {
     "duration": 0.132774,
     "end_time": "2023-01-06T03:46:42.910033",
     "exception": false,
     "start_time": "2023-01-06T03:46:42.777259",
     "status": "completed"
    },
    "tags": []
   },
   "outputs": [
    {
     "name": "stdout",
     "output_type": "stream",
     "text": [
      "0\n",
      "1\n",
      "2\n",
      "3\n",
      "4\n",
      "5\n",
      "6\n",
      "7\n",
      "8\n",
      "9\n",
      "10\n",
      "11\n",
      "12\n",
      "13\n",
      "14\n",
      "15\n",
      "16\n",
      "17\n",
      "18\n",
      "19\n"
     ]
    }
   ],
   "source": [
    "for wav in range(WAVCOUNT):\n",
    "    print(wav)    "
   ]
  },
  {
   "cell_type": "raw",
   "id": "737b22a3-41a3-4461-9602-e63b37143bb2",
   "metadata": {
    "papermill": {
     "duration": 0.077191,
     "end_time": "2023-01-06T03:46:43.048828",
     "exception": false,
     "start_time": "2023-01-06T03:46:42.971637",
     "status": "completed"
    },
    "tags": []
   },
   "source": [
    "def record():\n",
    "    audio = pyaudio.PyAudio() # create pyaudio instantiation\n",
    "\n",
    "    # create pyaudio stream\n",
    "    stream = audio.open(format = AUDIO_FORMAT,\n",
    "                        rate = RATE,\n",
    "                        channels = CHANNELS,\n",
    "                        input_device_index = DEV_INDEX,\n",
    "                        input = True,\n",
    "                        frames_per_buffer = FRAMES_PER_BUFFER)\n",
    "\n",
    "    frames = []\n",
    "    filename = f'{timestamp()}.wav'\n",
    "    logging.info(f'recording {filename}')\n",
    "    \n",
    "    # loop through stream and append audio chunks to frame array\n",
    "    for chunk in range(0,int((RATE/FRAMES_PER_BUFFER)*RECORD_SECS)):\n",
    "        data = stream.read(FRAMES_PER_BUFFER)\n",
    "        frames.append(data)\n",
    "\n",
    "    # stop the stream, close it, and terminate the pyaudio instantiation\n",
    "    stream.stop_stream()\n",
    "    stream.close()\n",
    "    audio.terminate()\n",
    "\n",
    "    # save the audio frames as .wav file\n",
    "    logging.info(f'saving {filename}')\n",
    "    wavefile = wave.open(filename,'wb')\n",
    "    wavefile.setnchannels(CHANNELS)\n",
    "    wavefile.setsampwidth(audio.get_sample_size(AUDIO_FORMAT))\n",
    "    wavefile.setframerate(RATE)\n",
    "    wavefile.writeframes(b''.join(frames))\n",
    "    wavefile.close()"
   ]
  },
  {
   "cell_type": "code",
   "execution_count": 6,
   "id": "37255997-1925-451e-a708-500fd3ac5d1a",
   "metadata": {
    "execution": {
     "iopub.execute_input": "2023-01-06T03:46:43.237235Z",
     "iopub.status.busy": "2023-01-06T03:46:43.228854Z",
     "iopub.status.idle": "2023-01-06T03:46:43.255890Z",
     "shell.execute_reply": "2023-01-06T03:46:43.252560Z"
    },
    "papermill": {
     "duration": 0.129094,
     "end_time": "2023-01-06T03:46:43.256456",
     "exception": false,
     "start_time": "2023-01-06T03:46:43.127362",
     "status": "completed"
    },
    "tags": []
   },
   "outputs": [],
   "source": [
    "def record1():\n",
    "    filename = timestamp()\n",
    "    logging.info(f'recording {filename}')\n",
    "    os.system(f'arecord -d 60 -r 22050 {timestamp()}.wav')\n",
    "        \n",
    "# record1()"
   ]
  },
  {
   "cell_type": "code",
   "execution_count": 7,
   "id": "7c1b2547-b175-4cb6-9c07-9baed6b22faf",
   "metadata": {
    "execution": {
     "iopub.execute_input": "2023-01-06T03:46:43.449968Z",
     "iopub.status.busy": "2023-01-06T03:46:43.443533Z",
     "iopub.status.idle": "2023-01-06T03:46:43.469911Z",
     "shell.execute_reply": "2023-01-06T03:46:43.473395Z"
    },
    "papermill": {
     "duration": 0.155628,
     "end_time": "2023-01-06T03:46:43.474152",
     "exception": false,
     "start_time": "2023-01-06T03:46:43.318524",
     "status": "completed"
    },
    "tags": []
   },
   "outputs": [],
   "source": [
    "def update_github():\n",
    "    logging.info(f'updating GitHub')\n",
    "    os.system(\"git pull\")\n",
    "    os.system(\"git add .\")\n",
    "    os.system(\"git commit -m 'commited by record_wav.ipynb'\")\n",
    "    os.system(\"git push\")\n",
    "# update_github()"
   ]
  },
  {
   "cell_type": "code",
   "execution_count": 8,
   "id": "699a8947-ee81-43f4-ae98-0c286ff276ba",
   "metadata": {
    "execution": {
     "iopub.execute_input": "2023-01-06T03:46:43.656083Z",
     "iopub.status.busy": "2023-01-06T03:46:43.651739Z",
     "iopub.status.idle": "2023-01-06T03:46:43.666053Z",
     "shell.execute_reply": "2023-01-06T03:46:43.663180Z"
    },
    "papermill": {
     "duration": 0.130174,
     "end_time": "2023-01-06T03:46:43.666657",
     "exception": false,
     "start_time": "2023-01-06T03:46:43.536483",
     "status": "completed"
    },
    "tags": []
   },
   "outputs": [],
   "source": [
    "def metadata():\n",
    "    return {'time':str(datetime.datetime.now()), 'volts':POW.getVin(0), 'amps':POW.getIin(0), 'temp':POW.getCPUtemp()}\n",
    "\n",
    "# metadata()"
   ]
  },
  {
   "cell_type": "code",
   "execution_count": 9,
   "id": "8ee9b325-badc-4839-8f1f-64dbaf2e7b74",
   "metadata": {
    "execution": {
     "iopub.execute_input": "2023-01-06T03:46:43.854948Z",
     "iopub.status.busy": "2023-01-06T03:46:43.849496Z",
     "iopub.status.idle": "2023-01-06T03:46:43.858504Z",
     "shell.execute_reply": "2023-01-06T03:46:43.861114Z"
    },
    "papermill": {
     "duration": 0.131758,
     "end_time": "2023-01-06T03:46:43.861826",
     "exception": false,
     "start_time": "2023-01-06T03:46:43.730068",
     "status": "completed"
    },
    "tags": []
   },
   "outputs": [],
   "source": [
    "def poweroff():\n",
    "    POW.powerOFF(0)\n",
    "\n",
    "# metadata()"
   ]
  },
  {
   "cell_type": "code",
   "execution_count": 10,
   "id": "beb16888-5abd-459c-ac7e-dbd777d3c8f8",
   "metadata": {
    "execution": {
     "iopub.execute_input": "2023-01-06T03:46:44.052763Z",
     "iopub.status.busy": "2023-01-06T03:46:44.045197Z",
     "iopub.status.idle": "2023-01-06T03:46:44.070094Z",
     "shell.execute_reply": "2023-01-06T03:46:44.065669Z"
    },
    "papermill": {
     "duration": 0.143388,
     "end_time": "2023-01-06T03:46:44.070771",
     "exception": false,
     "start_time": "2023-01-06T03:46:43.927383",
     "status": "completed"
    },
    "tags": []
   },
   "outputs": [],
   "source": [
    "def timestamp():\n",
    "    '''returns local date and time'''\n",
    "    return datetime.datetime.now().strftime(\"%Y%m%d_%H%M%S%f\")\n",
    "\n",
    "# timestamp()"
   ]
  },
  {
   "cell_type": "markdown",
   "id": "21ded3dc-0044-4bec-9ebd-34a9f76043cf",
   "metadata": {
    "papermill": {
     "duration": 0.08091,
     "end_time": "2023-01-06T03:46:44.216400",
     "exception": false,
     "start_time": "2023-01-06T03:46:44.135490",
     "status": "completed"
    },
    "tags": []
   },
   "source": [
    "# MAIN"
   ]
  },
  {
   "cell_type": "code",
   "execution_count": 11,
   "id": "23a42018-1ad0-4323-951f-db94b24a4cde",
   "metadata": {
    "execution": {
     "iopub.execute_input": "2023-01-06T03:46:44.415079Z",
     "iopub.status.busy": "2023-01-06T03:46:44.410325Z"
    },
    "papermill": {
     "duration": null,
     "end_time": null,
     "exception": false,
     "start_time": "2023-01-06T03:46:44.296449",
     "status": "running"
    },
    "tags": []
   },
   "outputs": [
    {
     "name": "stderr",
     "output_type": "stream",
     "text": [
      "Recording WAVE '20230106_114644420418.wav' : Unsigned 8 bit, Rate 22050 Hz, Mono\n"
     ]
    },
    {
     "name": "stdout",
     "output_type": "stream",
     "text": [
      "Already up to date.\n"
     ]
    }
   ],
   "source": [
    "logging.basicConfig(filename = 'record_wav.log',\n",
    "                    level=logging.DEBUG, \n",
    "                    format='%(asctime)s :: %(levelname)s :: %(message)s')\n",
    "\n",
    "for wav in range(WAVCOUNT):\n",
    "    logging.info(metadata())\n",
    "    logging.info(f'recording wav file {wav+1} of WAVCOUNT')\n",
    "    record1()\n",
    "    update_github()\n",
    "logging.info('FINISHED ----------')"
   ]
  },
  {
   "cell_type": "code",
   "execution_count": null,
   "id": "9ea276de-ff20-4ef9-97e1-0bb6773a3ba8",
   "metadata": {
    "papermill": {
     "duration": null,
     "end_time": null,
     "exception": null,
     "start_time": null,
     "status": "pending"
    },
    "tags": []
   },
   "outputs": [],
   "source": [
    "print('FINISHED')"
   ]
  }
 ],
 "metadata": {
  "kernelspec": {
   "display_name": "Python 3 (ipykernel)",
   "language": "python",
   "name": "python3"
  },
  "language_info": {
   "codemirror_mode": {
    "name": "ipython",
    "version": 3
   },
   "file_extension": ".py",
   "mimetype": "text/x-python",
   "name": "python",
   "nbconvert_exporter": "python",
   "pygments_lexer": "ipython3",
   "version": "3.7.3"
  },
  "papermill": {
   "default_parameters": {},
   "duration": null,
   "end_time": null,
   "environment_variables": {},
   "exception": null,
   "input_path": "record_wav.ipynb",
   "output_path": "temp.ipynb",
   "parameters": {
    "WAVCOUNT": 20
   },
   "start_time": "2023-01-06T03:46:37.681601",
   "version": "2.4.0"
  }
 },
 "nbformat": 4,
 "nbformat_minor": 5
}