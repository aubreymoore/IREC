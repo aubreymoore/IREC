{
 "cells": [
  {
   "cell_type": "code",
   "execution_count": 1,
   "id": "d6039f1b-679e-42a3-af1d-4df173a937e4",
   "metadata": {
    "execution": {
     "iopub.execute_input": "2022-12-27T03:34:30.488895Z",
     "iopub.status.busy": "2022-12-27T03:34:30.467425Z",
     "iopub.status.idle": "2022-12-27T03:34:30.632882Z",
     "shell.execute_reply": "2022-12-27T03:34:30.629324Z"
    },
    "papermill": {
     "duration": 0.235121,
     "end_time": "2022-12-27T03:34:30.633580",
     "exception": false,
     "start_time": "2022-12-27T03:34:30.398459",
     "status": "completed"
    },
    "tags": []
   },
   "outputs": [],
   "source": [
    "import pyaudio\n",
    "import wave\n",
    "import sys\n",
    "import os\n",
    "import piplates.POWERplate as POW\n",
    "import datetime\n",
    "import logging"
   ]
  },
  {
   "cell_type": "markdown",
   "id": "e49b9368-1b12-4d84-b062-48730a91533f",
   "metadata": {
    "papermill": {
     "duration": 0.046493,
     "end_time": "2022-12-27T03:34:30.727492",
     "exception": false,
     "start_time": "2022-12-27T03:34:30.680999",
     "status": "completed"
    },
    "tags": []
   },
   "source": [
    "# DOES NOT RUN ON UBUNTU 20.04 / PYTHON 3.9 BECAUSE I CAN'T GET pyaudiIo TO INSTALL PROPERLY \n",
    "\n",
    "On my Ubuntu 20.04 machine I tried to install pyaudio using\n",
    "```\n",
    "sudo apt-get install -y python3-pyaudio\n",
    "```\n",
    "FAILED"
   ]
  },
  {
   "cell_type": "code",
   "execution_count": 2,
   "id": "97adc04e-1f68-4ce4-aa1d-11db6ea1236e",
   "metadata": {
    "execution": {
     "iopub.execute_input": "2022-12-27T03:34:30.869895Z",
     "iopub.status.busy": "2022-12-27T03:34:30.865781Z",
     "iopub.status.idle": "2022-12-27T03:34:30.879341Z",
     "shell.execute_reply": "2022-12-27T03:34:30.882045Z"
    },
    "papermill": {
     "duration": 0.10882,
     "end_time": "2022-12-27T03:34:30.882783",
     "exception": false,
     "start_time": "2022-12-27T03:34:30.773963",
     "status": "completed"
    },
    "tags": []
   },
   "outputs": [
    {
     "data": {
      "text/plain": [
       "'3.7.3 (default, Jan 22 2021, 20:04:44) \\n[GCC 8.3.0]'"
      ]
     },
     "execution_count": 2,
     "metadata": {},
     "output_type": "execute_result"
    }
   ],
   "source": [
    "sys.version"
   ]
  },
  {
   "cell_type": "code",
   "execution_count": 3,
   "id": "e9c3920b-a38a-4aff-8aa9-980cd9a39c2c",
   "metadata": {
    "execution": {
     "iopub.execute_input": "2022-12-27T03:34:31.002671Z",
     "iopub.status.busy": "2022-12-27T03:34:30.998666Z",
     "iopub.status.idle": "2022-12-27T03:34:31.790990Z",
     "shell.execute_reply": "2022-12-27T03:34:31.784614Z"
    },
    "papermill": {
     "duration": 0.858792,
     "end_time": "2022-12-27T03:34:31.792271",
     "exception": false,
     "start_time": "2022-12-27T03:34:30.933479",
     "status": "completed"
    },
    "tags": []
   },
   "outputs": [
    {
     "name": "stderr",
     "output_type": "stream",
     "text": [
      "ALSA lib confmisc.c:1281:(snd_func_refer) Unable to find definition 'cards.bcm2835_hdmi.pcm.front.0:CARD=0'\n",
      "ALSA lib conf.c:4568:(_snd_config_evaluate) function snd_func_refer returned error: No such file or directory\n",
      "ALSA lib conf.c:5047:(snd_config_expand) Evaluate error: No such file or directory\n",
      "ALSA lib pcm.c:2565:(snd_pcm_open_noupdate) Unknown PCM front\n",
      "ALSA lib pcm.c:2565:(snd_pcm_open_noupdate) Unknown PCM cards.pcm.rear\n",
      "ALSA lib pcm.c:2565:(snd_pcm_open_noupdate) Unknown PCM cards.pcm.center_lfe\n",
      "ALSA lib pcm.c:2565:(snd_pcm_open_noupdate) Unknown PCM cards.pcm.side\n",
      "ALSA lib confmisc.c:1281:(snd_func_refer) Unable to find definition 'cards.bcm2835_hdmi.pcm.surround51.0:CARD=0'\n",
      "ALSA lib conf.c:4568:(_snd_config_evaluate) function snd_func_refer returned error: No such file or directory\n",
      "ALSA lib conf.c:5047:(snd_config_expand) Evaluate error: No such file or directory\n",
      "ALSA lib pcm.c:2565:(snd_pcm_open_noupdate) Unknown PCM surround21\n",
      "ALSA lib confmisc.c:1281:(snd_func_refer) Unable to find definition 'cards.bcm2835_hdmi.pcm.surround51.0:CARD=0'\n",
      "ALSA lib conf.c:4568:(_snd_config_evaluate) function snd_func_refer returned error: No such file or directory\n",
      "ALSA lib conf.c:5047:(snd_config_expand) Evaluate error: No such file or directory\n",
      "ALSA lib pcm.c:2565:(snd_pcm_open_noupdate) Unknown PCM surround21\n",
      "ALSA lib confmisc.c:1281:(snd_func_refer) Unable to find definition 'cards.bcm2835_hdmi.pcm.surround40.0:CARD=0'\n",
      "ALSA lib conf.c:4568:(_snd_config_evaluate) function snd_func_refer returned error: No such file or directory\n",
      "ALSA lib conf.c:5047:(snd_config_expand) Evaluate error: No such file or directory\n",
      "ALSA lib pcm.c:2565:(snd_pcm_open_noupdate) Unknown PCM surround40\n",
      "ALSA lib confmisc.c:1281:(snd_func_refer) Unable to find definition 'cards.bcm2835_hdmi.pcm.surround51.0:CARD=0'\n",
      "ALSA lib conf.c:4568:(_snd_config_evaluate) function snd_func_refer returned error: No such file or directory\n",
      "ALSA lib conf.c:5047:(snd_config_expand) Evaluate error: No such file or directory\n",
      "ALSA lib pcm.c:2565:(snd_pcm_open_noupdate) Unknown PCM surround41\n",
      "ALSA lib confmisc.c:1281:(snd_func_refer) Unable to find definition 'cards.bcm2835_hdmi.pcm.surround51.0:CARD=0'\n",
      "ALSA lib conf.c:4568:(_snd_config_evaluate) function snd_func_refer returned error: No such file or directory\n",
      "ALSA lib conf.c:5047:(snd_config_expand) Evaluate error: No such file or directory\n",
      "ALSA lib pcm.c:2565:(snd_pcm_open_noupdate) Unknown PCM surround50\n",
      "ALSA lib confmisc.c:1281:(snd_func_refer) Unable to find definition 'cards.bcm2835_hdmi.pcm.surround51.0:CARD=0'\n",
      "ALSA lib conf.c:4568:(_snd_config_evaluate) function snd_func_refer returned error: No such file or directory\n",
      "ALSA lib conf.c:5047:(snd_config_expand) Evaluate error: No such file or directory\n",
      "ALSA lib pcm.c:2565:(snd_pcm_open_noupdate) Unknown PCM surround51\n",
      "ALSA lib confmisc.c:1281:(snd_func_refer) Unable to find definition 'cards.bcm2835_hdmi.pcm.surround71.0:CARD=0'\n",
      "ALSA lib conf.c:4568:(_snd_config_evaluate) function snd_func_refer returned error: No such file or directory\n",
      "ALSA lib conf.c:5047:(snd_config_expand) Evaluate error: No such file or directory\n",
      "ALSA lib pcm.c:2565:(snd_pcm_open_noupdate) Unknown PCM surround71\n",
      "ALSA lib confmisc.c:1281:(snd_func_refer) Unable to find definition 'cards.bcm2835_hdmi.pcm.iec958.0:CARD=0,AES0=4,AES1=130,AES2=0,AES3=2'\n",
      "ALSA lib conf.c:4568:(_snd_config_evaluate) function snd_func_refer returned error: No such file or directory\n",
      "ALSA lib conf.c:5047:(snd_config_expand) Evaluate error: No such file or directory\n",
      "ALSA lib pcm.c:2565:(snd_pcm_open_noupdate) Unknown PCM iec958\n",
      "ALSA lib confmisc.c:1281:(snd_func_refer) Unable to find definition 'cards.bcm2835_hdmi.pcm.iec958.0:CARD=0,AES0=4,AES1=130,AES2=0,AES3=2'\n",
      "ALSA lib conf.c:4568:(_snd_config_evaluate) function snd_func_refer returned error: No such file or directory\n",
      "ALSA lib conf.c:5047:(snd_config_expand) Evaluate error: No such file or directory\n",
      "ALSA lib pcm.c:2565:(snd_pcm_open_noupdate) Unknown PCM spdif\n",
      "ALSA lib confmisc.c:1281:(snd_func_refer) Unable to find definition 'cards.bcm2835_hdmi.pcm.iec958.0:CARD=0,AES0=4,AES1=130,AES2=0,AES3=2'\n",
      "ALSA lib conf.c:4568:(_snd_config_evaluate) function snd_func_refer returned error: No such file or directory\n",
      "ALSA lib conf.c:5047:(snd_config_expand) Evaluate error: No such file or directory\n",
      "ALSA lib pcm.c:2565:(snd_pcm_open_noupdate) Unknown PCM spdif\n",
      "ALSA lib pcm.c:2565:(snd_pcm_open_noupdate) Unknown PCM cards.pcm.hdmi\n",
      "ALSA lib pcm.c:2565:(snd_pcm_open_noupdate) Unknown PCM cards.pcm.hdmi\n",
      "ALSA lib pcm.c:2565:(snd_pcm_open_noupdate) Unknown PCM cards.pcm.modem\n",
      "ALSA lib pcm.c:2565:(snd_pcm_open_noupdate) Unknown PCM cards.pcm.modem\n",
      "ALSA lib pcm.c:2565:(snd_pcm_open_noupdate) Unknown PCM cards.pcm.phoneline\n",
      "ALSA lib pcm.c:2565:(snd_pcm_open_noupdate) Unknown PCM cards.pcm.phoneline\n"
     ]
    },
    {
     "name": "stderr",
     "output_type": "stream",
     "text": [
      "Cannot connect to server socket err = No such file or directory\n",
      "Cannot connect to server request channel\n",
      "jack server is not running or cannot be started\n",
      "JackShmReadWritePtr::~JackShmReadWritePtr - Init not done for -1, skipping unlock\n",
      "JackShmReadWritePtr::~JackShmReadWritePtr - Init not done for -1, skipping unlock\n",
      "Cannot connect to server socket err = No such file or directory\n",
      "Cannot connect to server request channel\n",
      "jack server is not running or cannot be started\n",
      "JackShmReadWritePtr::~JackShmReadWritePtr - Init not done for -1, skipping unlock\n",
      "JackShmReadWritePtr::~JackShmReadWritePtr - Init not done for -1, skipping unlock\n",
      "ALSA lib pcm_oss.c:377:(_snd_pcm_oss_open) Unknown field port\n",
      "ALSA lib pcm_oss.c:377:(_snd_pcm_oss_open) Unknown field port\n",
      "ALSA lib pcm_a52.c:823:(_snd_pcm_a52_open) a52 is only for playback\n",
      "ALSA lib confmisc.c:1281:(snd_func_refer) Unable to find definition 'cards.bcm2835_hdmi.pcm.iec958.0:CARD=0,AES0=6,AES1=130,AES2=0,AES3=2'\n",
      "ALSA lib conf.c:4568:(_snd_config_evaluate) function snd_func_refer returned error: No such file or directory\n",
      "ALSA lib conf.c:5047:(snd_config_expand) Evaluate error: No such file or directory\n",
      "ALSA lib pcm.c:2565:(snd_pcm_open_noupdate) Unknown PCM iec958:{AES0 0x6 AES1 0x82 AES2 0x0 AES3 0x2  CARD 0}\n",
      "ALSA lib pcm_usb_stream.c:486:(_snd_pcm_usb_stream_open) Invalid type for card\n",
      "ALSA lib pcm_usb_stream.c:486:(_snd_pcm_usb_stream_open) Invalid type for card\n"
     ]
    },
    {
     "name": "stdout",
     "output_type": "stream",
     "text": [
      "0 bcm2835 HDMI 1: - (hw:0,0)\n",
      "1 Cable Creation: USB Audio (hw:1,0)\n",
      "2 bcm2835 Headphones: - (hw:2,0)\n",
      "3 sysdefault\n",
      "4 lavrate\n",
      "5 samplerate\n",
      "6 speexrate\n",
      "7 pulse\n",
      "8 upmix\n",
      "9 vdownmix\n",
      "10 dmix\n",
      "11 default\n"
     ]
    },
    {
     "name": "stderr",
     "output_type": "stream",
     "text": [
      "Cannot connect to server socket err = No such file or directory\n",
      "Cannot connect to server request channel\n",
      "jack server is not running or cannot be started\n",
      "JackShmReadWritePtr::~JackShmReadWritePtr - Init not done for -1, skipping unlock\n",
      "JackShmReadWritePtr::~JackShmReadWritePtr - Init not done for -1, skipping unlock\n"
     ]
    }
   ],
   "source": [
    "p = pyaudio.PyAudio()\n",
    "for dev_index in range(p.get_device_count()):\n",
    "    print(dev_index, p.get_device_info_by_index(dev_index).get('name'))"
   ]
  },
  {
   "cell_type": "code",
   "execution_count": 4,
   "id": "ac289416-5225-45db-916b-65be9435f2bc",
   "metadata": {
    "execution": {
     "iopub.execute_input": "2022-12-27T03:34:32.102185Z",
     "iopub.status.busy": "2022-12-27T03:34:32.094276Z",
     "iopub.status.idle": "2022-12-27T03:34:32.130865Z",
     "shell.execute_reply": "2022-12-27T03:34:32.137282Z"
    },
    "papermill": {
     "duration": 0.206195,
     "end_time": "2022-12-27T03:34:32.138785",
     "exception": false,
     "start_time": "2022-12-27T03:34:31.932590",
     "status": "completed"
    },
    "tags": [
     "parameters"
    ]
   },
   "outputs": [],
   "source": [
    "# These parameters may be set by papermill\n",
    "AUDIO_FORMAT = pyaudio.paInt16    # 16-bit resolution\n",
    "CHANNELS = 1                      # 1 channel\n",
    "RATE = 44100                      # 44.1kHz sampling rate\n",
    "FRAMES_PER_BUFFER = 4096          # 2^12 samples for buffer\n",
    "RECORD_SECS = 60                  # seconds to record\n",
    "DEV_INDEX = 1                    # device index found by p.get_device_info_by_index()\n",
    "WAV_OUTPUT_FILENAME = 'lunga_up.wav' # name of .wav file"
   ]
  },
  {
   "cell_type": "code",
   "execution_count": 5,
   "id": "cc4c907b-bb42-42e0-a538-945c3153b23f",
   "metadata": {
    "execution": {
     "iopub.execute_input": "2022-12-27T03:34:32.440296Z",
     "iopub.status.busy": "2022-12-27T03:34:32.433379Z",
     "iopub.status.idle": "2022-12-27T03:34:32.504399Z",
     "shell.execute_reply": "2022-12-27T03:34:32.509738Z"
    },
    "papermill": {
     "duration": 0.233875,
     "end_time": "2022-12-27T03:34:32.511138",
     "exception": false,
     "start_time": "2022-12-27T03:34:32.277263",
     "status": "completed"
    },
    "tags": []
   },
   "outputs": [],
   "source": [
    "def record():\n",
    "    audio = pyaudio.PyAudio() # create pyaudio instantiation\n",
    "\n",
    "    # create pyaudio stream\n",
    "    stream = audio.open(format = AUDIO_FORMAT,\n",
    "                        rate = RATE,\n",
    "                        channels = CHANNELS,\n",
    "                        input_device_index = DEV_INDEX,\n",
    "                        input = True,\n",
    "                        frames_per_buffer = FRAMES_PER_BUFFER)\n",
    "    print(\"recording\")\n",
    "    frames = []\n",
    "\n",
    "    # loop through stream and append audio chunks to frame array\n",
    "    for chunk in range(0,int((RATE/FRAMES_PER_BUFFER)*RECORD_SECS)):\n",
    "        data = stream.read(FRAMES_PER_BUFFER)\n",
    "        frames.append(data)\n",
    "\n",
    "    print(\"finished recording\")\n",
    "\n",
    "    # stop the stream, close it, and terminate the pyaudio instantiation\n",
    "    stream.stop_stream()\n",
    "    stream.close()\n",
    "    audio.terminate()\n",
    "\n",
    "    # save the audio frames as .wav file\n",
    "    wavefile = wave.open(WAV_OUTPUT_FILENAME,'wb')\n",
    "    wavefile.setnchannels(CHANNELS)\n",
    "    wavefile.setsampwidth(audio.get_sample_size(AUDIO_FORMAT))\n",
    "    wavefile.setframerate(RATE)\n",
    "    wavefile.writeframes(b''.join(frames))\n",
    "    wavefile.close()"
   ]
  },
  {
   "cell_type": "code",
   "execution_count": 6,
   "id": "7c1b2547-b175-4cb6-9c07-9baed6b22faf",
   "metadata": {
    "execution": {
     "iopub.execute_input": "2022-12-27T03:34:32.814004Z",
     "iopub.status.busy": "2022-12-27T03:34:32.806363Z",
     "iopub.status.idle": "2022-12-27T03:34:32.831932Z",
     "shell.execute_reply": "2022-12-27T03:34:32.837593Z"
    },
    "papermill": {
     "duration": 0.195412,
     "end_time": "2022-12-27T03:34:32.838940",
     "exception": false,
     "start_time": "2022-12-27T03:34:32.643528",
     "status": "completed"
    },
    "tags": []
   },
   "outputs": [],
   "source": [
    "def update_github():\n",
    "    os.system(\"git pull\")\n",
    "    os.system(\"git add .\")\n",
    "    os.system(\"git commit -m 'commited by record_wav.ipynb'\")\n",
    "    os.system(\"git push\")\n",
    "# update_github()"
   ]
  },
  {
   "cell_type": "code",
   "execution_count": 7,
   "id": "699a8947-ee81-43f4-ae98-0c286ff276ba",
   "metadata": {
    "execution": {
     "iopub.execute_input": "2022-12-27T03:34:33.146533Z",
     "iopub.status.busy": "2022-12-27T03:34:33.138986Z",
     "iopub.status.idle": "2022-12-27T03:34:33.173149Z",
     "shell.execute_reply": "2022-12-27T03:34:33.167378Z"
    },
    "papermill": {
     "duration": 0.198954,
     "end_time": "2022-12-27T03:34:33.174335",
     "exception": false,
     "start_time": "2022-12-27T03:34:32.975381",
     "status": "completed"
    },
    "tags": []
   },
   "outputs": [],
   "source": [
    "def metadata():\n",
    "    return {'time':str(datetime.datetime.now()), 'volts':POW.getVin(0), 'amps':POW.getIin(0), 'temp':POW.getCPUtemp()}\n",
    "\n",
    "# metadata()"
   ]
  },
  {
   "cell_type": "code",
   "execution_count": 8,
   "id": "8ee9b325-badc-4839-8f1f-64dbaf2e7b74",
   "metadata": {
    "execution": {
     "iopub.execute_input": "2022-12-27T03:34:33.474196Z",
     "iopub.status.busy": "2022-12-27T03:34:33.466717Z",
     "iopub.status.idle": "2022-12-27T03:34:33.494907Z",
     "shell.execute_reply": "2022-12-27T03:34:33.500588Z"
    },
    "papermill": {
     "duration": 0.192112,
     "end_time": "2022-12-27T03:34:33.502035",
     "exception": false,
     "start_time": "2022-12-27T03:34:33.309923",
     "status": "completed"
    },
    "tags": []
   },
   "outputs": [],
   "source": [
    "def poweroff():\n",
    "    POW.powerOFF(0)\n",
    "\n",
    "# metadata()"
   ]
  },
  {
   "cell_type": "markdown",
   "id": "21ded3dc-0044-4bec-9ebd-34a9f76043cf",
   "metadata": {
    "papermill": {
     "duration": 0.136819,
     "end_time": "2022-12-27T03:34:33.777534",
     "exception": false,
     "start_time": "2022-12-27T03:34:33.640715",
     "status": "completed"
    },
    "tags": []
   },
   "source": [
    "# MAIN"
   ]
  },
  {
   "cell_type": "code",
   "execution_count": 9,
   "id": "23a42018-1ad0-4323-951f-db94b24a4cde",
   "metadata": {
    "execution": {
     "iopub.execute_input": "2022-12-27T03:34:34.083495Z",
     "iopub.status.busy": "2022-12-27T03:34:34.076447Z"
    },
    "papermill": {
     "duration": null,
     "end_time": null,
     "exception": false,
     "start_time": "2022-12-27T03:34:33.915774",
     "status": "running"
    },
    "tags": []
   },
   "outputs": [
    {
     "name": "stdout",
     "output_type": "stream",
     "text": [
      "recording\n"
     ]
    },
    {
     "name": "stdout",
     "output_type": "stream",
     "text": [
      "finished recording\n"
     ]
    }
   ],
   "source": [
    "logging.basicConfig(filename = 'record_wav.log',\n",
    "                    level = logging.DEBUG,\n",
    "                    format = '%(asctime)s:%(levelname)s:%(name)s:%(message)s')\n",
    "logging.info(metadata())\n",
    "logging.info('recording')\n",
    "record()\n",
    "logging.info(metadata())\n",
    "logging.info('updating github')\n",
    "update_github()\n",
    "logging.info(metadata())\n",
    "logging.info('FINISHED')"
   ]
  },
  {
   "cell_type": "raw",
   "id": "9f8fd435-003c-4899-9a80-3aa851684a84",
   "metadata": {
    "papermill": {
     "duration": null,
     "end_time": null,
     "exception": null,
     "start_time": null,
     "status": "pending"
    },
    "tags": []
   },
   "source": [
    "%%time\n",
    "print(metadata())\n",
    "update_github()\n",
    "print(metadata())"
   ]
  },
  {
   "cell_type": "code",
   "execution_count": null,
   "id": "9ea276de-ff20-4ef9-97e1-0bb6773a3ba8",
   "metadata": {
    "papermill": {
     "duration": null,
     "end_time": null,
     "exception": null,
     "start_time": null,
     "status": "pending"
    },
    "tags": []
   },
   "outputs": [],
   "source": [
    "print('FINISHED')"
   ]
  }
 ],
 "metadata": {
  "kernelspec": {
   "display_name": "Python 3 (ipykernel)",
   "language": "python",
   "name": "python3"
  },
  "language_info": {
   "codemirror_mode": {
    "name": "ipython",
    "version": 3
   },
   "file_extension": ".py",
   "mimetype": "text/x-python",
   "name": "python",
   "nbconvert_exporter": "python",
   "pygments_lexer": "ipython3",
   "version": "3.7.3"
  },
  "papermill": {
   "default_parameters": {},
   "duration": null,
   "end_time": null,
   "environment_variables": {},
   "exception": null,
   "input_path": "record_wav.ipynb",
   "output_path": "temp.ipynb",
   "parameters": {},
   "start_time": "2022-12-27T03:34:23.577192",
   "version": "2.4.0"
  }
 },
 "nbformat": 4,
 "nbformat_minor": 5
}