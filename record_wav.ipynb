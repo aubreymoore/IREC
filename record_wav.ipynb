{
 "cells": [
  {
   "cell_type": "code",
   "execution_count": 1,
   "id": "d6039f1b-679e-42a3-af1d-4df173a937e4",
   "metadata": {
    "tags": []
   },
   "outputs": [],
   "source": [
    "# import pyaudio\n",
    "import wave\n",
    "import sys\n",
    "import os\n",
    "import piplates.POWERplate as POW\n",
    "import datetime\n",
    "import logging\n",
    "import datetime"
   ]
  },
  {
   "cell_type": "markdown",
   "id": "e49b9368-1b12-4d84-b062-48730a91533f",
   "metadata": {},
   "source": [
    "# DOES NOT RUN ON UBUNTU 20.04 / PYTHON 3.9 BECAUSE I CAN'T GET pyaudio TO INSTALL PROPERLY \n",
    "\n",
    "On my Ubuntu 20.04 machine I tried to install pyaudio using\n",
    "```\n",
    "sudo apt-get install -y python3-pyaudio\n",
    "```\n",
    "FAILED"
   ]
  },
  {
   "cell_type": "code",
   "execution_count": 2,
   "id": "97adc04e-1f68-4ce4-aa1d-11db6ea1236e",
   "metadata": {},
   "outputs": [
    {
     "data": {
      "text/plain": [
       "'3.7.3 (default, Jan 22 2021, 20:04:44) \\n[GCC 8.3.0]'"
      ]
     },
     "execution_count": 2,
     "metadata": {},
     "output_type": "execute_result"
    }
   ],
   "source": [
    "sys.version"
   ]
  },
  {
   "cell_type": "raw",
   "id": "15714085-5912-41a9-83e4-71ceb7b9c8e3",
   "metadata": {},
   "source": [
    "p = pyaudio.PyAudio()\n",
    "for dev_index in range(p.get_device_count()):\n",
    "    print(dev_index, p.get_device_info_by_index(dev_index).get('name'))"
   ]
  },
  {
   "cell_type": "code",
   "execution_count": 3,
   "id": "ac289416-5225-45db-916b-65be9435f2bc",
   "metadata": {
    "tags": [
     "parameters"
    ]
   },
   "outputs": [],
   "source": [
    "# These parameters may be set by papermill\n",
    "# AUDIO_FORMAT = pyaudio.paInt16    # 16-bit resolution\n",
    "CHANNELS = 1                      # 1 channel\n",
    "RATE = 22050                      # sample rate\n",
    "FRAMES_PER_BUFFER = 4096          # 2^12 samples for buffer\n",
    "RECORD_SECS = 60                  # seconds to record for each WAV file\n",
    "DEV_INDEX = 1                    # device index found by p.get_device_info_by_index()\n",
    "# WAV_OUTPUT_FILENAME = 'lunga_up.wav' # name of .wav file\n",
    "WAVCOUNT = 10                    # number of WAV files to record "
   ]
  },
  {
   "cell_type": "code",
   "execution_count": 4,
   "id": "48603bae-1fe5-471d-879e-0544ea2edadc",
   "metadata": {},
   "outputs": [
    {
     "name": "stdout",
     "output_type": "stream",
     "text": [
      "0\n",
      "1\n",
      "2\n",
      "3\n",
      "4\n",
      "5\n",
      "6\n",
      "7\n",
      "8\n",
      "9\n"
     ]
    }
   ],
   "source": [
    "for wav in range(WAVCOUNT):\n",
    "    print(wav)    "
   ]
  },
  {
   "cell_type": "raw",
   "id": "737b22a3-41a3-4461-9602-e63b37143bb2",
   "metadata": {},
   "source": [
    "def record():\n",
    "    audio = pyaudio.PyAudio() # create pyaudio instantiation\n",
    "\n",
    "    # create pyaudio stream\n",
    "    stream = audio.open(format = AUDIO_FORMAT,\n",
    "                        rate = RATE,\n",
    "                        channels = CHANNELS,\n",
    "                        input_device_index = DEV_INDEX,\n",
    "                        input = True,\n",
    "                        frames_per_buffer = FRAMES_PER_BUFFER)\n",
    "\n",
    "    frames = []\n",
    "    filename = f'{timestamp()}.wav'\n",
    "    logging.info(f'recording {filename}')\n",
    "    \n",
    "    # loop through stream and append audio chunks to frame array\n",
    "    for chunk in range(0,int((RATE/FRAMES_PER_BUFFER)*RECORD_SECS)):\n",
    "        data = stream.read(FRAMES_PER_BUFFER)\n",
    "        frames.append(data)\n",
    "\n",
    "    # stop the stream, close it, and terminate the pyaudio instantiation\n",
    "    stream.stop_stream()\n",
    "    stream.close()\n",
    "    audio.terminate()\n",
    "\n",
    "    # save the audio frames as .wav file\n",
    "    logging.info(f'saving {filename}')\n",
    "    wavefile = wave.open(filename,'wb')\n",
    "    wavefile.setnchannels(CHANNELS)\n",
    "    wavefile.setsampwidth(audio.get_sample_size(AUDIO_FORMAT))\n",
    "    wavefile.setframerate(RATE)\n",
    "    wavefile.writeframes(b''.join(frames))\n",
    "    wavefile.close()"
   ]
  },
  {
   "cell_type": "code",
   "execution_count": 5,
   "id": "37255997-1925-451e-a708-500fd3ac5d1a",
   "metadata": {},
   "outputs": [],
   "source": [
    "def record1():\n",
    "    filename = timestamp()\n",
    "    logging.info(f'recording {filename}')\n",
    "    os.system(f'arecord -d 60 -r 22050 {timestamp()}.wav')\n",
    "        \n",
    "# record1()"
   ]
  },
  {
   "cell_type": "code",
   "execution_count": 6,
   "id": "7c1b2547-b175-4cb6-9c07-9baed6b22faf",
   "metadata": {},
   "outputs": [],
   "source": [
    "def update_github():\n",
    "    logging.info(f'updating GitHub')\n",
    "    os.system(\"git pull\")\n",
    "    os.system(\"git add .\")\n",
    "    os.system(\"git commit -m 'commited by record_wav.ipynb'\")\n",
    "    os.system(\"git push\")\n",
    "# update_github()"
   ]
  },
  {
   "cell_type": "code",
   "execution_count": 7,
   "id": "699a8947-ee81-43f4-ae98-0c286ff276ba",
   "metadata": {},
   "outputs": [],
   "source": [
    "def metadata():\n",
    "    return {'time':str(datetime.datetime.now()), 'volts':POW.getVin(0), 'amps':POW.getIin(0), 'temp':POW.getCPUtemp()}\n",
    "\n",
    "# metadata()"
   ]
  },
  {
   "cell_type": "code",
   "execution_count": 8,
   "id": "8ee9b325-badc-4839-8f1f-64dbaf2e7b74",
   "metadata": {},
   "outputs": [],
   "source": [
    "def poweroff():\n",
    "    POW.powerOFF(0)\n",
    "\n",
    "# metadata()"
   ]
  },
  {
   "cell_type": "code",
   "execution_count": 9,
   "id": "beb16888-5abd-459c-ac7e-dbd777d3c8f8",
   "metadata": {},
   "outputs": [],
   "source": [
    "def timestamp():\n",
    "    '''returns local date and time'''\n",
    "    return datetime.datetime.now().strftime(\"%Y%m%d_%H%M%S%f\")\n",
    "\n",
    "# timestamp()"
   ]
  },
  {
   "cell_type": "markdown",
   "id": "21ded3dc-0044-4bec-9ebd-34a9f76043cf",
   "metadata": {},
   "source": [
    "# MAIN"
   ]
  },
  {
   "cell_type": "code",
   "execution_count": null,
   "id": "23a42018-1ad0-4323-951f-db94b24a4cde",
   "metadata": {},
   "outputs": [
    {
     "name": "stderr",
     "output_type": "stream",
     "text": [
      "Recording WAVE '20230105_170302168667.wav' : Unsigned 8 bit, Rate 22050 Hz, Mono\n"
     ]
    }
   ],
   "source": [
    "logging.basicConfig(filename = 'record_wav.log',\n",
    "                    level=logging.DEBUG, \n",
    "                    format='%(asctime)s :: %(levelname)s :: %(message)s')\n",
    "\n",
    "for wav in range(WAVCOUNT):\n",
    "    logging.info(metadata())\n",
    "    logging.info(f'recording wav file {wav+1} of WAVCOUNT')\n",
    "    record1()\n",
    "    update_github()\n",
    "logging.info('FINISHED ----------')"
   ]
  },
  {
   "cell_type": "code",
   "execution_count": null,
   "id": "9ea276de-ff20-4ef9-97e1-0bb6773a3ba8",
   "metadata": {},
   "outputs": [],
   "source": [
    "print('FINISHED')"
   ]
  }
 ],
 "metadata": {
  "kernelspec": {
   "display_name": "Python 3 (ipykernel)",
   "language": "python",
   "name": "python3"
  },
  "language_info": {
   "codemirror_mode": {
    "name": "ipython",
    "version": 3
   },
   "file_extension": ".py",
   "mimetype": "text/x-python",
   "name": "python",
   "nbconvert_exporter": "python",
   "pygments_lexer": "ipython3",
   "version": "3.7.3"
  }
 },
 "nbformat": 4,
 "nbformat_minor": 5
}
